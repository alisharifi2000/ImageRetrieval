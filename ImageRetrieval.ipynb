{
  "nbformat": 4,
  "nbformat_minor": 0,
  "metadata": {
    "colab": {
      "name": "ImageRetrieval.ipynb",
      "provenance": [],
      "collapsed_sections": [],
      "toc_visible": true,
      "authorship_tag": "ABX9TyM4CNX7WEyn7xvxw7UdH8/3",
      "include_colab_link": true
    },
    "kernelspec": {
      "display_name": "Python 3",
      "name": "python3"
    },
    "accelerator": "GPU"
  },
  "cells": [
    {
      "cell_type": "markdown",
      "metadata": {
        "id": "view-in-github",
        "colab_type": "text"
      },
      "source": [
        "<a href=\"https://colab.research.google.com/github/alisharifi2000/ImageRetrieval/blob/main/ImageRetrieval.ipynb\" target=\"_parent\"><img src=\"https://colab.research.google.com/assets/colab-badge.svg\" alt=\"Open In Colab\"/></a>"
      ]
    },
    {
      "cell_type": "code",
      "metadata": {
        "id": "VBdtZ9I3nGZp"
      },
      "source": [
        "# #read all images and change size to 256 * 256\n",
        "# from PIL import Image\n",
        " \n",
        "# def resize_image(path,save_path):\n",
        "#     im = Image.open(path)\n",
        "#     im = im.resize((int(256), int(256)), Image.ANTIALIAS)\n",
        "#     im.save(save_path)\n",
        "#     im.close()"
      ],
      "execution_count": null,
      "outputs": []
    },
    {
      "cell_type": "code",
      "metadata": {
        "id": "vVgFt0D20yyq",
        "colab": {
          "base_uri": "https://localhost:8080/"
        },
        "outputId": "1d3c0d17-80e1-49e7-b3f7-88b32d7710e2"
      },
      "source": [
        "\r\n",
        "from google.colab import drive\r\n",
        "drive.mount('/gdrive')"
      ],
      "execution_count": null,
      "outputs": [
        {
          "output_type": "stream",
          "text": [
            "Mounted at /gdrive\n"
          ],
          "name": "stdout"
        }
      ]
    },
    {
      "cell_type": "code",
      "metadata": {
        "id": "ChZmgziNtq0s",
        "colab": {
          "base_uri": "https://localhost:8080/"
        },
        "outputId": "dd7570ee-7fd6-43fd-eaa5-d3048a89f82e"
      },
      "source": [
        "# import glob\r\n",
        "\r\n",
        "# paths = glob.glob('/gdrive/MyDrive/ImageRetrieval/animal_database/*/*/*.jpg',recursive = True)\r\n",
        "# for path in paths:\r\n",
        "#     resize_image(path,path)\r\n",
        "\r\n",
        "# print('resize all images complete !')"
      ],
      "execution_count": null,
      "outputs": [
        {
          "output_type": "stream",
          "text": [
            "resize all images complete !\n"
          ],
          "name": "stdout"
        }
      ]
    },
    {
      "cell_type": "code",
      "metadata": {
        "colab": {
          "base_uri": "https://localhost:8080/"
        },
        "id": "pK6pEgqOgdIf",
        "outputId": "e8450eb1-f23b-4b82-cad7-6876048f8d6a"
      },
      "source": [
        "len(paths)"
      ],
      "execution_count": null,
      "outputs": [
        {
          "output_type": "execute_result",
          "data": {
            "text/plain": [
              "1740"
            ]
          },
          "metadata": {
            "tags": []
          },
          "execution_count": 18
        }
      ]
    },
    {
      "cell_type": "code",
      "metadata": {
        "id": "mj3EAzbsvEYL"
      },
      "source": [
        "# train VAE AutoEncoder\r\n",
        "# use encoder for making image features into latent space\r\n",
        "\r\n",
        "import numpy as np\r\n",
        "import tensorflow as tf\r\n",
        "from tensorflow.keras.optimizers import RMSprop\r\n",
        "from keras import backend as K\r\n",
        "from tensorflow.keras.utils import plot_model\r\n",
        "from tensorflow.keras.callbacks import ModelCheckpoint\r\n",
        "from keras.preprocessing.image import load_img\r\n",
        "from keras.preprocessing.image import img_to_array\r\n",
        "from tensorflow.keras import Model\r\n",
        "from tensorflow.keras.layers import Dense , Bidirectional ,LSTM , Input , Conv2D  ,MaxPooling2D ,AveragePooling2D ,Flatten , Lambda , UpSampling2D ,Conv2DTranspose ,Reshape \r\n",
        "from tensorflow.keras.applications.vgg19 import VGG19\r\n",
        "from tensorflow.keras.preprocessing import image_dataset_from_directory\r\n",
        "from tensorflow.keras.preprocessing.image import ImageDataGenerator\r\n",
        "from tensorflow.keras.callbacks import EarlyStopping , ModelCheckpoint , ReduceLROnPlateau\r\n",
        "from tensorflow.keras.losses import mean_absolute_error\r\n",
        "from random import shuffle\r\n",
        "from keras.models import load_model\r\n",
        "import glob"
      ],
      "execution_count": null,
      "outputs": []
    },
    {
      "cell_type": "code",
      "metadata": {
        "id": "wmdS8tGqyB7Q"
      },
      "source": [
        "def sample_latent_features(distribution):\r\n",
        "    distribution_mean, distribution_variance = distribution\r\n",
        "    batch_size = tf.shape(distribution_variance)[0]\r\n",
        "    random = tf.keras.backend.random_normal(shape=(batch_size, tf.shape(distribution_variance)[1]))\r\n",
        "    return distribution_mean + tf.exp(0.5 * distribution_variance) * random"
      ],
      "execution_count": null,
      "outputs": []
    },
    {
      "cell_type": "code",
      "metadata": {
        "colab": {
          "base_uri": "https://localhost:8080/",
          "height": 1000
        },
        "id": "wHgTGwU-wYvM",
        "outputId": "9cb8935e-b47d-4934-d893-7842f52a6fe8"
      },
      "source": [
        "# VAE encoder \r\n",
        "'''\r\n",
        "input shape = (256,256,3)\r\n",
        "'''\r\n",
        "\r\n",
        "input_shape = (256,256,3)\r\n",
        "\r\n",
        "input_encoder = Input(input_shape,name = 'encoder_input')\r\n",
        "encoder = Conv2D(8,(3,3),activation = 'relu',name = 'encoder_layer1')(input_encoder)\r\n",
        "encoder = AveragePooling2D(2,2 , name = 'encoder_layer2')(encoder)\r\n",
        "encoder = Conv2D(16,(3,3),activation = 'relu',name = 'encoder_layer3')(encoder)\r\n",
        "encoder = MaxPooling2D(2,2 , name = 'encoder_layer4')(encoder)\r\n",
        "encoder = Conv2D(32,(3,3),activation = 'relu',name = 'encoder_layer5')(encoder)\r\n",
        "encoder = AveragePooling2D(4,4, name = 'encoder_layer6')(encoder)\r\n",
        "encoder = Flatten(name = 'encoder_layer7')(encoder)\r\n",
        "encoder = Dense(64 , activation = 'relu', name = 'encoder_layer8')(encoder)\r\n",
        "\r\n",
        "distribution_mean = Dense(64, name='mean')(encoder)\r\n",
        "distribution_variance = Dense(64, name='log_variance')(encoder)\r\n",
        "\r\n",
        "latent_encoding = Lambda(sample_latent_features , name = 'encoder_output')([distribution_mean, distribution_variance])\r\n",
        "\r\n",
        "Encoder = Model(inputs= [input_encoder], outputs=[latent_encoding],name = 'Encoder')\r\n",
        "print(Encoder.summary())\r\n",
        "plot_model(Encoder, show_shapes=True)"
      ],
      "execution_count": null,
      "outputs": [
        {
          "output_type": "stream",
          "text": [
            "Model: \"Encoder\"\n",
            "__________________________________________________________________________________________________\n",
            "Layer (type)                    Output Shape         Param #     Connected to                     \n",
            "==================================================================================================\n",
            "encoder_input (InputLayer)      [(None, 256, 256, 3) 0                                            \n",
            "__________________________________________________________________________________________________\n",
            "encoder_layer1 (Conv2D)         (None, 254, 254, 8)  224         encoder_input[0][0]              \n",
            "__________________________________________________________________________________________________\n",
            "encoder_layer2 (AveragePooling2 (None, 127, 127, 8)  0           encoder_layer1[0][0]             \n",
            "__________________________________________________________________________________________________\n",
            "encoder_layer3 (Conv2D)         (None, 125, 125, 16) 1168        encoder_layer2[0][0]             \n",
            "__________________________________________________________________________________________________\n",
            "encoder_layer4 (MaxPooling2D)   (None, 62, 62, 16)   0           encoder_layer3[0][0]             \n",
            "__________________________________________________________________________________________________\n",
            "encoder_layer5 (Conv2D)         (None, 60, 60, 32)   4640        encoder_layer4[0][0]             \n",
            "__________________________________________________________________________________________________\n",
            "encoder_layer6 (AveragePooling2 (None, 15, 15, 32)   0           encoder_layer5[0][0]             \n",
            "__________________________________________________________________________________________________\n",
            "encoder_layer7 (Flatten)        (None, 7200)         0           encoder_layer6[0][0]             \n",
            "__________________________________________________________________________________________________\n",
            "encoder_layer8 (Dense)          (None, 64)           460864      encoder_layer7[0][0]             \n",
            "__________________________________________________________________________________________________\n",
            "mean (Dense)                    (None, 64)           4160        encoder_layer8[0][0]             \n",
            "__________________________________________________________________________________________________\n",
            "log_variance (Dense)            (None, 64)           4160        encoder_layer8[0][0]             \n",
            "__________________________________________________________________________________________________\n",
            "encoder_output (Lambda)         (None, 64)           0           mean[0][0]                       \n",
            "                                                                 log_variance[0][0]               \n",
            "==================================================================================================\n",
            "Total params: 475,216\n",
            "Trainable params: 475,216\n",
            "Non-trainable params: 0\n",
            "__________________________________________________________________________________________________\n",
            "None\n"
          ],
          "name": "stdout"
        },
        {
          "output_type": "execute_result",
          "data": {
            "image/png": "[encoded data removed]",
            "text/plain": [
              "<IPython.core.display.Image object>"
            ]
          },
          "metadata": {
            "tags": []
          },
          "execution_count": 23
        }
      ]
    },
    {
      "cell_type": "code",
      "metadata": {
        "colab": {
          "base_uri": "https://localhost:8080/",
          "height": 1000
        },
        "id": "UgGzkutwwdS_",
        "outputId": "ef3ae48e-5e28-426e-be10-752ce5034a98"
      },
      "source": [
        "#VAE decoder\r\n",
        "\r\n",
        "'''\r\n",
        "input shape = (128)\r\n",
        "'''\r\n",
        "\r\n",
        "input_shape = 64\r\n",
        "\r\n",
        "input_decoder = Input(input_shape,name = 'decoder_input')\r\n",
        "decoder = Reshape((1, 1, 64),name = 'decoder_layer1')(input_decoder)\r\n",
        "decoder = Conv2DTranspose(32, (3,3), activation='relu' , name = 'decoder_layer2')(decoder)\r\n",
        "decoder = UpSampling2D(16,name = 'decoder_layer3')(decoder)\r\n",
        "decoder = Conv2DTranspose(32, (3,3), activation='relu' , name = 'decoder_layer4')(decoder)\r\n",
        "decoder = UpSampling2D(8,name = 'decoder_layer5')(decoder)\r\n",
        "decoder = Conv2DTranspose(32, (3,3), activation='relu' , name = 'decoder_layer6')(decoder)\r\n",
        "decoder = UpSampling2D(2,name = 'decoder_layer7')(decoder)\r\n",
        "decoder = Conv2DTranspose(32, (3,3), activation='relu' , name = 'decoder_layer8')(decoder)\r\n",
        "decoder = AveragePooling2D((3,3), name = 'decoder_layer9')(decoder)\r\n",
        "output_decoder = Conv2D(3,(13,13), name = 'decoder_layer10' , activation= 'relu')(decoder)\r\n",
        "\r\n",
        "Decoder = Model(inputs= [input_decoder], outputs=[output_decoder],name = 'Decoder')\r\n",
        "print(Decoder.summary())\r\n",
        "plot_model(Decoder, show_shapes=True)"
      ],
      "execution_count": null,
      "outputs": [
        {
          "output_type": "stream",
          "text": [
            "Model: \"Decoder\"\n",
            "_________________________________________________________________\n",
            "Layer (type)                 Output Shape              Param #   \n",
            "=================================================================\n",
            "decoder_input (InputLayer)   [(None, 64)]              0         \n",
            "_________________________________________________________________\n",
            "decoder_layer1 (Reshape)     (None, 1, 1, 64)          0         \n",
            "_________________________________________________________________\n",
            "decoder_layer2 (Conv2DTransp (None, 3, 3, 32)          18464     \n",
            "_________________________________________________________________\n",
            "decoder_layer3 (UpSampling2D (None, 48, 48, 32)        0         \n",
            "_________________________________________________________________\n",
            "decoder_layer4 (Conv2DTransp (None, 50, 50, 32)        9248      \n",
            "_________________________________________________________________\n",
            "decoder_layer5 (UpSampling2D (None, 400, 400, 32)      0         \n",
            "_________________________________________________________________\n",
            "decoder_layer6 (Conv2DTransp (None, 402, 402, 32)      9248      \n",
            "_________________________________________________________________\n",
            "decoder_layer7 (UpSampling2D (None, 804, 804, 32)      0         \n",
            "_________________________________________________________________\n",
            "decoder_layer8 (Conv2DTransp (None, 806, 806, 32)      9248      \n",
            "_________________________________________________________________\n",
            "decoder_layer9 (AveragePooli (None, 268, 268, 32)      0         \n",
            "_________________________________________________________________\n",
            "decoder_layer10 (Conv2D)     (None, 256, 256, 3)       16227     \n",
            "=================================================================\n",
            "Total params: 62,435\n",
            "Trainable params: 62,435\n",
            "Non-trainable params: 0\n",
            "_________________________________________________________________\n",
            "None\n"
          ],
          "name": "stdout"
        },
        {
          "output_type": "execute_result",
          "data": {
            "image/png": "[encoded data removed]",
            "text/plain": [
              "<IPython.core.display.Image object>"
            ]
          },
          "metadata": {
            "tags": []
          },
          "execution_count": 24
        }
      ]
    },
    {
      "cell_type": "code",
      "metadata": {
        "colab": {
          "base_uri": "https://localhost:8080/",
          "height": 585
        },
        "id": "QmYDeFLtwi7G",
        "outputId": "a8824ec9-e665-4d7a-ce98-1044bf10e6c4"
      },
      "source": [
        "# VAE Model\r\n",
        "VAE_input = Input((256,256,3),name = 'VAE_input')\r\n",
        "VAE_latent = Encoder(VAE_input)\r\n",
        "VAE_output = Decoder(VAE_latent)\r\n",
        "VAE = Model(inputs= [VAE_input], outputs=[VAE_output],name = 'VAE')\r\n",
        "\r\n",
        "print(VAE.summary())\r\n",
        "plot_model(VAE, show_shapes=True)"
      ],
      "execution_count": null,
      "outputs": [
        {
          "output_type": "stream",
          "text": [
            "Model: \"VAE\"\n",
            "_________________________________________________________________\n",
            "Layer (type)                 Output Shape              Param #   \n",
            "=================================================================\n",
            "VAE_input (InputLayer)       [(None, 256, 256, 3)]     0         \n",
            "_________________________________________________________________\n",
            "Encoder (Functional)         (None, 64)                475216    \n",
            "_________________________________________________________________\n",
            "Decoder (Functional)         (None, 256, 256, 3)       62435     \n",
            "=================================================================\n",
            "Total params: 537,651\n",
            "Trainable params: 537,651\n",
            "Non-trainable params: 0\n",
            "_________________________________________________________________\n",
            "None\n"
          ],
          "name": "stdout"
        },
        {
          "output_type": "execute_result",
          "data": {
            "image/png": "[encoded data removed]",
            "text/plain": [
              "<IPython.core.display.Image object>"
            ]
          },
          "metadata": {
            "tags": []
          },
          "execution_count": 25
        }
      ]
    },
    {
      "cell_type": "code",
      "metadata": {
        "id": "sySBb9E4xQGw",
        "colab": {
          "base_uri": "https://localhost:8080/"
        },
        "outputId": "9e84f709-f7fc-4d4a-c8ee-a069de3dff02"
      },
      "source": [
        "'''\r\n",
        "define perceptual_loss\r\n",
        "'''\r\n",
        "\r\n",
        "selected_layers = ['block1_conv1', 'block2_conv2',\"block3_conv1\",\"block3_conv3\" ,'block4_conv1',\r\n",
        "                   'block4_conv3','block5_conv1','block5_conv2','block5_conv3','block5_conv4']\r\n",
        "\r\n",
        "selected_layer_weights = [1.0, 2.0 , 2.0 , 4.0 ,4.0,\r\n",
        "                         8.0 , 8.0 ,16.0 ,16.0, 16.0]\r\n",
        "\r\n",
        "vgg = VGG19(weights='imagenet', include_top=False, input_shape=(256,256,3))\r\n",
        "vgg.trainable = False\r\n",
        "outputs = [vgg.get_layer(l).output for l in selected_layers]\r\n",
        "model = Model(vgg.input, outputs)\r\n",
        "\r\n",
        "@tf.function\r\n",
        "def perceptual_loss(input_image , reconstruct_image):\r\n",
        "    h1_list = model(input_image)\r\n",
        "    h2_list = model(reconstruct_image)\r\n",
        "\r\n",
        "    rc_loss = 0.0\r\n",
        "\r\n",
        "    img = K.batch_flatten(input_image)\r\n",
        "    r_img = K.batch_flatten(reconstruct_image)\r\n",
        "    r_error =  K.sum(K.abs(img - r_img), axis=-1) \r\n",
        "\r\n",
        "    for h1, h2, weight in zip(h1_list, h2_list, selected_layer_weights):\r\n",
        "\r\n",
        "        h1 = K.batch_flatten(h1)\r\n",
        "        h2 = K.batch_flatten(h2)\r\n",
        "        rc_loss = rc_loss + weight * K.sum(K.abs(h1 - h2), axis=-1)\r\n",
        "        rc_loss = rc_loss / 10\r\n",
        "\r\n",
        "    rc_loss = (rc_loss / (sum(selected_layer_weights)))\r\n",
        "    error = (rc_loss + 3*r_error)/4\r\n",
        "\r\n",
        "    return error "
      ],
      "execution_count": null,
      "outputs": [
        {
          "output_type": "stream",
          "text": [
            "Downloading data from https://storage.googleapis.com/tensorflow/keras-applications/vgg19/vgg19_weights_tf_dim_ordering_tf_kernels_notop.h5\n",
            "80142336/80134624 [==============================] - 1s 0us/step\n"
          ],
          "name": "stdout"
        }
      ]
    },
    {
      "cell_type": "code",
      "metadata": {
        "id": "HsytA36rw_kE"
      },
      "source": [
        "rmsprop = RMSprop(learning_rate=0.00025 , momentum=0.99)\r\n",
        "VAE.compile(loss= perceptual_loss, optimizer= rmsprop)\r\n",
        "\r\n",
        "es = EarlyStopping(monitor=\"val_loss\",\r\n",
        "                   patience=6)\r\n",
        "\r\n",
        "cp_callback = ModelCheckpoint(filepath='/gdrive/MyDrive/ImageRetrieval/Models/Best_RGB256_VAE.h5',\r\n",
        "                              monitor='val_loss',\r\n",
        "                              save_weights_only=True,\r\n",
        "                              save_best_only=True,\r\n",
        "                              verbose=1)"
      ],
      "execution_count": null,
      "outputs": []
    },
    {
      "cell_type": "code",
      "metadata": {
        "id": "eSllaJcGorMK",
        "colab": {
          "base_uri": "https://localhost:8080/"
        },
        "outputId": "13726536-b1cc-44f2-dcc5-6079f32d39a3"
      },
      "source": [
        "paths = glob.glob('/gdrive/MyDrive/ImageRetrieval/animal_database/*/*/*.jpg',recursive = True)\r\n",
        "shuffle(paths)\r\n",
        "len(paths)"
      ],
      "execution_count": null,
      "outputs": [
        {
          "output_type": "execute_result",
          "data": {
            "text/plain": [
              "1740"
            ]
          },
          "metadata": {
            "tags": []
          },
          "execution_count": 28
        }
      ]
    },
    {
      "cell_type": "code",
      "metadata": {
        "colab": {
          "base_uri": "https://localhost:8080/"
        },
        "id": "R6G_1cLoq2HR",
        "outputId": "25a20407-16ef-4c2f-94d2-1f1bd410d1a6"
      },
      "source": [
        "## low RAM make data to patches !\r\n",
        "images = []\r\n",
        "for path in paths :\r\n",
        "    img = load_img(path)\r\n",
        "    img = img_to_array(img)\r\n",
        "    img = img.astype(np.float32)\r\n",
        "    img = img/255.0\r\n",
        "    images.append(img)\r\n",
        "images = np.asarray(images)\r\n",
        "\r\n",
        "VAE.fit(x=images,y=images,\r\n",
        "    epochs=30,\r\n",
        "    verbose = 1,\r\n",
        "    batch_size = 16,\r\n",
        "    validation_split = 0.2,\r\n",
        "    callbacks = [es,cp_callback])\r\n",
        "\r\n",
        "del images\r\n",
        "del paths"
      ],
      "execution_count": null,
      "outputs": [
        {
          "output_type": "stream",
          "text": [
            "Epoch 1/30\n",
            "87/87 [==============================] - 49s 534ms/step - loss: 54464.8472 - val_loss: 41878.0977\n",
            "\n",
            "Epoch 00001: val_loss improved from inf to 41878.09766, saving model to /gdrive/MyDrive/ImageRetrieval/Models/Best_RGB256_VAE.h5\n",
            "Epoch 2/30\n",
            "87/87 [==============================] - 45s 521ms/step - loss: 40460.1986 - val_loss: 30869.0742\n",
            "\n",
            "Epoch 00002: val_loss improved from 41878.09766 to 30869.07422, saving model to /gdrive/MyDrive/ImageRetrieval/Models/Best_RGB256_VAE.h5\n",
            "Epoch 3/30\n",
            "87/87 [==============================] - 45s 521ms/step - loss: 31494.5484 - val_loss: 30827.3613\n",
            "\n",
            "Epoch 00003: val_loss improved from 30869.07422 to 30827.36133, saving model to /gdrive/MyDrive/ImageRetrieval/Models/Best_RGB256_VAE.h5\n",
            "Epoch 4/30\n",
            "87/87 [==============================] - 45s 520ms/step - loss: 30466.5736 - val_loss: 30412.2969\n",
            "\n",
            "Epoch 00004: val_loss improved from 30827.36133 to 30412.29688, saving model to /gdrive/MyDrive/ImageRetrieval/Models/Best_RGB256_VAE.h5\n",
            "Epoch 5/30\n",
            "87/87 [==============================] - 45s 521ms/step - loss: 29765.6149 - val_loss: 30452.6719\n",
            "\n",
            "Epoch 00005: val_loss did not improve from 30412.29688\n",
            "Epoch 6/30\n",
            "87/87 [==============================] - 45s 520ms/step - loss: 30165.2943 - val_loss: 30364.0195\n",
            "\n",
            "Epoch 00006: val_loss improved from 30412.29688 to 30364.01953, saving model to /gdrive/MyDrive/ImageRetrieval/Models/Best_RGB256_VAE.h5\n",
            "Epoch 7/30\n",
            "87/87 [==============================] - 45s 521ms/step - loss: 30146.6631 - val_loss: 30515.3887\n",
            "\n",
            "Epoch 00007: val_loss did not improve from 30364.01953\n",
            "Epoch 8/30\n",
            "87/87 [==============================] - 45s 521ms/step - loss: 30159.1449 - val_loss: 30484.6465\n",
            "\n",
            "Epoch 00008: val_loss did not improve from 30364.01953\n",
            "Epoch 9/30\n",
            "87/87 [==============================] - 45s 521ms/step - loss: 30057.7069 - val_loss: 30307.7266\n",
            "\n",
            "Epoch 00009: val_loss improved from 30364.01953 to 30307.72656, saving model to /gdrive/MyDrive/ImageRetrieval/Models/Best_RGB256_VAE.h5\n",
            "Epoch 10/30\n",
            "87/87 [==============================] - 45s 521ms/step - loss: 30177.3691 - val_loss: 30381.1992\n",
            "\n",
            "Epoch 00010: val_loss did not improve from 30307.72656\n",
            "Epoch 11/30\n",
            "87/87 [==============================] - 45s 521ms/step - loss: 30280.2344 - val_loss: 30313.8105\n",
            "\n",
            "Epoch 00011: val_loss did not improve from 30307.72656\n",
            "Epoch 12/30\n",
            "87/87 [==============================] - 45s 521ms/step - loss: 30245.3553 - val_loss: 30354.3613\n",
            "\n",
            "Epoch 00012: val_loss did not improve from 30307.72656\n",
            "Epoch 13/30\n",
            "87/87 [==============================] - 45s 520ms/step - loss: 30340.6046 - val_loss: 30436.7969\n",
            "\n",
            "Epoch 00013: val_loss did not improve from 30307.72656\n",
            "Epoch 14/30\n",
            "87/87 [==============================] - 45s 521ms/step - loss: 29961.2644 - val_loss: 30335.1152\n",
            "\n",
            "Epoch 00014: val_loss did not improve from 30307.72656\n",
            "Epoch 15/30\n",
            "87/87 [==============================] - 45s 521ms/step - loss: 29994.0965 - val_loss: 30384.4160\n",
            "\n",
            "Epoch 00015: val_loss did not improve from 30307.72656\n"
          ],
          "name": "stdout"
        }
      ]
    },
    {
      "cell_type": "code",
      "metadata": {
        "id": "JVwdcb3pJOTt",
        "colab": {
          "base_uri": "https://localhost:8080/"
        },
        "outputId": "ccbe2200-82c7-4e3a-d434-945a1a0841d6"
      },
      "source": [
        "! ls '/gdrive/MyDrive/ImageRetrieval/Models/'"
      ],
      "execution_count": null,
      "outputs": [
        {
          "output_type": "stream",
          "text": [
            "Best_HSI256_VAE.h5\t\t LAB256_Encoder_weights.h5\n",
            "Best_inception256_AE.h5\t\t LAB256_VAE.h5\n",
            "Best_LAB256_VAE.h5\t\t LAB256_VAE_weights.h5\n",
            "Best_RGB256_VAE.h5\t\t RGB256_Encoder.h5\n",
            "Best_XYZ256_VAE.h5\t\t RGB256_Encoder_weights.h5\n",
            "HSI256_Encoder.h5\t\t RGB256_VAE.h5\n",
            "HSI256_Encoder_weights.h5\t RGB256_VAE_weights.h5\n",
            "HSI256_VAE.h5\t\t\t XYZ256_Encoder.h5\n",
            "HSI256_VAE_weights.h5\t\t XYZ256_Encoder_weights.h5\n",
            "inception256_AE_weights.h5\t XYZ256_VAE.h5\n",
            "inception256_Encoder_weights.h5  XYZ256_VAE_weights.h5\n",
            "LAB256_Encoder.h5\n"
          ],
          "name": "stdout"
        }
      ]
    },
    {
      "cell_type": "code",
      "metadata": {
        "id": "U-M1cJqIPkm0"
      },
      "source": [
        "VAE.save(\"/gdrive/MyDrive/ImageRetrieval/Models/RGB256_VAE.h5\")\r\n",
        "Encoder.save(\"/gdrive/MyDrive/ImageRetrieval/Models/RGB256_Encoder.h5\")"
      ],
      "execution_count": null,
      "outputs": []
    },
    {
      "cell_type": "code",
      "metadata": {
        "id": "zlgaf9V7LnVb"
      },
      "source": [
        "VAE.save_weights('/gdrive/MyDrive/ImageRetrieval/Models/RGB256_VAE_weights.h5')\r\n",
        "Encoder.save_weights('/gdrive/MyDrive/ImageRetrieval/Models/RGB256_Encoder_weights.h5')"
      ],
      "execution_count": null,
      "outputs": []
    },
    {
      "cell_type": "code",
      "metadata": {
        "id": "N2fU-bWeKy_Y",
        "colab": {
          "base_uri": "https://localhost:8080/"
        },
        "outputId": "dd6e7142-ea9e-4909-b2e7-2c5945a07a9c"
      },
      "source": [
        "! ls '/gdrive/MyDrive/ImageRetrieval/Models/'"
      ],
      "execution_count": null,
      "outputs": [
        {
          "output_type": "stream",
          "text": [
            "Best_HSI256_VAE.h5\t\t LAB256_Encoder_weights.h5\n",
            "Best_inception256_AE.h5\t\t LAB256_VAE.h5\n",
            "Best_LAB256_VAE.h5\t\t LAB256_VAE_weights.h5\n",
            "Best_RGB256_VAE.h5\t\t RGB256_Encoder.h5\n",
            "Best_XYZ256_VAE.h5\t\t RGB256_Encoder_weights.h5\n",
            "HSI256_Encoder.h5\t\t RGB256_VAE.h5\n",
            "HSI256_Encoder_weights.h5\t RGB256_VAE_weights.h5\n",
            "HSI256_VAE.h5\t\t\t XYZ256_Encoder.h5\n",
            "HSI256_VAE_weights.h5\t\t XYZ256_Encoder_weights.h5\n",
            "inception256_AE_weights.h5\t XYZ256_VAE.h5\n",
            "inception256_Encoder_weights.h5  XYZ256_VAE_weights.h5\n",
            "LAB256_Encoder.h5\n"
          ],
          "name": "stdout"
        }
      ]
    },
    {
      "cell_type": "markdown",
      "metadata": {
        "id": "mC9i91c4E38X"
      },
      "source": [
        "# save latent vector of RGB in pickle file"
      ]
    },
    {
      "cell_type": "code",
      "metadata": {
        "id": "lg_NqAKwYlW2"
      },
      "source": [
        "# VAE.load_weights('/gdrive/MyDrive/ImageRetrieval/Models/RGB256_VAE_weights.h5')\r\n",
        "Encoder.load_weights('/gdrive/MyDrive/ImageRetrieval/Models/RGB256_Encoder_weights.h5')"
      ],
      "execution_count": null,
      "outputs": []
    },
    {
      "cell_type": "code",
      "metadata": {
        "id": "uaG9axTqJaId"
      },
      "source": [
        "paths = glob.glob('/gdrive/MyDrive/ImageRetrieval/animal_database/*/*/*.jpg',recursive = True)"
      ],
      "execution_count": null,
      "outputs": []
    },
    {
      "cell_type": "code",
      "metadata": {
        "colab": {
          "base_uri": "https://localhost:8080/"
        },
        "id": "zwFIdBMtBnd8",
        "outputId": "1c765093-13c8-495b-e5b1-bece0b8e4dbb"
      },
      "source": [
        "## low RAM make data to patches !\r\n",
        "counter = 0\r\n",
        "data = {}\r\n",
        "added = []\r\n",
        "\r\n",
        "for path in paths :\r\n",
        "    name = path.split('/')[-1].split('.')[0]\r\n",
        "    class_name  = path.split('/')[-3]\r\n",
        "\r\n",
        "    img = load_img(path)\r\n",
        "    img = img_to_array(img)\r\n",
        "    img = img.astype(np.float32)\r\n",
        "    img = img/255.0\r\n",
        "    img = [img]\r\n",
        "    img = np.asarray(img)\r\n",
        "\r\n",
        "    latent = Encoder(img).numpy().reshape(64)\r\n",
        "    latent = np.nan_to_num(latent, nan=0)\r\n",
        "\r\n",
        "    id = '{}-{}'.format(class_name,name)\r\n",
        "\r\n",
        "    if id in added:\r\n",
        "        print(path)\r\n",
        "    else:\r\n",
        "        data[id] = {'RGB_features':latent , 'Class':class_name}\r\n",
        "        added.append(id)\r\n",
        "        counter +=1\r\n",
        "\r\n",
        "print(len(paths))\r\n",
        "print(counter)"
      ],
      "execution_count": null,
      "outputs": [
        {
          "output_type": "stream",
          "text": [
            "1740\n",
            "1740\n"
          ],
          "name": "stdout"
        }
      ]
    },
    {
      "cell_type": "code",
      "metadata": {
        "id": "r9lZsZvaE2KA"
      },
      "source": [
        "# save RGB feature and class of images in pickle file\r\n",
        "import pickle\r\n",
        "\r\n",
        "with open('/gdrive/MyDrive/ImageRetrieval/features.pickle', 'wb') as handle:\r\n",
        "    pickle.dump(data, handle, protocol=pickle.HIGHEST_PROTOCOL)\r\n",
        "\r\n",
        "# with open('/gdrive/MyDrive/ImageRetrieval/features.pickle', 'rb') as handle:\r\n",
        "#      print(len(pickle.load(handle).keys()))"
      ],
      "execution_count": null,
      "outputs": []
    },
    {
      "cell_type": "code",
      "metadata": {
        "id": "jB956EBsQwgz"
      },
      "source": [
        "del paths\r\n",
        "del data"
      ],
      "execution_count": null,
      "outputs": []
    },
    {
      "cell_type": "markdown",
      "metadata": {
        "id": "NZG5Sh0bkNV1"
      },
      "source": [
        "# save representatives of each class by mean of features"
      ]
    },
    {
      "cell_type": "code",
      "metadata": {
        "id": "VUiBzYUdHd-u"
      },
      "source": [
        "classes = glob.glob('/gdrive/MyDrive/ImageRetrieval/animal_database/*',recursive = True)\r\n",
        "list_class = []\r\n",
        "for c in classes:\r\n",
        "    c = c.split('/')[-1]\r\n",
        "    list_class.append(c)"
      ],
      "execution_count": null,
      "outputs": []
    },
    {
      "cell_type": "code",
      "metadata": {
        "id": "_n77MzepUwUh"
      },
      "source": [
        "data = {}\r\n",
        "for c in list_class:\r\n",
        "    paths = glob.glob('/gdrive/MyDrive/ImageRetrieval/animal_database/{}/*/*.jpg'.format(c))\r\n",
        "    sum = np.zeros(64,dtype=np.float32)\r\n",
        "    for path in paths:\r\n",
        "        img = load_img(path)\r\n",
        "        img = img_to_array(img)\r\n",
        "        img = img.astype(np.float32)\r\n",
        "        img = img/255.0\r\n",
        "        img = [img]\r\n",
        "        img = np.asarray(img)\r\n",
        "        latent = Encoder(img).numpy().reshape(64)\r\n",
        "        latent = np.nan_to_num(latent, nan=0)\r\n",
        "        sum = sum + latent\r\n",
        "    sum = sum/len(paths)\r\n",
        "    data[c] = {'RGB':sum}"
      ],
      "execution_count": null,
      "outputs": []
    },
    {
      "cell_type": "code",
      "metadata": {
        "id": "uJgeAehHVkTh"
      },
      "source": [
        "with open('/gdrive/MyDrive/ImageRetrieval/representatives.pickle', 'wb') as handle:\r\n",
        "    pickle.dump(data, handle, protocol=pickle.HIGHEST_PROTOCOL)"
      ],
      "execution_count": null,
      "outputs": []
    },
    {
      "cell_type": "code",
      "metadata": {
        "id": "QhvQZ7VQV28R"
      },
      "source": [
        "del data"
      ],
      "execution_count": null,
      "outputs": []
    },
    {
      "cell_type": "markdown",
      "metadata": {
        "id": "YXHqu62aqOSF"
      },
      "source": [
        "# HSI features"
      ]
    },
    {
      "cell_type": "code",
      "metadata": {
        "id": "Dpt_HTrnYxoa"
      },
      "source": [
        "## change image to HSI and then use AutoEncoder to reduce dimension\r\n",
        "\r\n",
        "from skimage.color import rgb2hsv"
      ],
      "execution_count": null,
      "outputs": []
    },
    {
      "cell_type": "code",
      "metadata": {
        "id": "Sj-NxC8IcawX"
      },
      "source": [
        "def sample_latent_features(distribution):\r\n",
        "    distribution_mean, distribution_variance = distribution\r\n",
        "    batch_size = tf.shape(distribution_variance)[0]\r\n",
        "    random = tf.keras.backend.random_normal(shape=(batch_size, tf.shape(distribution_variance)[1]))\r\n",
        "    return distribution_mean + tf.exp(0.5 * distribution_variance) * random\r\n",
        "\r\n",
        "# VAE encoder \r\n",
        "'''\r\n",
        "input shape = (256,256,3)\r\n",
        "'''\r\n",
        "\r\n",
        "input_shape = (256,256,3)\r\n",
        "\r\n",
        "input_encoder = Input(input_shape,name = 'encoder_input')\r\n",
        "encoder = Conv2D(8,(3,3),activation = 'relu',name = 'encoder_layer1')(input_encoder)\r\n",
        "encoder = AveragePooling2D(2,2 , name = 'encoder_layer2')(encoder)\r\n",
        "encoder = Conv2D(16,(3,3),activation = 'relu',name = 'encoder_layer3')(encoder)\r\n",
        "encoder = MaxPooling2D(2,2 , name = 'encoder_layer4')(encoder)\r\n",
        "encoder = Conv2D(32,(3,3),activation = 'relu',name = 'encoder_layer5')(encoder)\r\n",
        "encoder = AveragePooling2D(4,4, name = 'encoder_layer6')(encoder)\r\n",
        "encoder = Flatten(name = 'encoder_layer7')(encoder)\r\n",
        "encoder = Dense(64 , activation = 'relu', name = 'encoder_layer8')(encoder)\r\n",
        "\r\n",
        "distribution_mean = Dense(64, name='mean')(encoder)\r\n",
        "distribution_variance = Dense(64, name='log_variance')(encoder)\r\n",
        "\r\n",
        "latent_encoding = Lambda(sample_latent_features , name = 'encoder_output')([distribution_mean, distribution_variance])\r\n",
        "\r\n",
        "Encoder = Model(inputs= [input_encoder], outputs=[latent_encoding],name = 'Encoder')\r\n",
        "\r\n",
        "#VAE decoder\r\n",
        "\r\n",
        "'''\r\n",
        "input shape = (128)\r\n",
        "'''\r\n",
        "\r\n",
        "input_shape = 64\r\n",
        "\r\n",
        "input_decoder = Input(input_shape,name = 'decoder_input')\r\n",
        "decoder = Reshape((1, 1, 64),name = 'decoder_layer1')(input_decoder)\r\n",
        "decoder = Conv2DTranspose(32, (3,3), activation='relu' , name = 'decoder_layer2')(decoder)\r\n",
        "decoder = UpSampling2D(16,name = 'decoder_layer3')(decoder)\r\n",
        "decoder = Conv2DTranspose(32, (3,3), activation='relu' , name = 'decoder_layer4')(decoder)\r\n",
        "decoder = UpSampling2D(8,name = 'decoder_layer5')(decoder)\r\n",
        "decoder = Conv2DTranspose(32, (3,3), activation='relu' , name = 'decoder_layer6')(decoder)\r\n",
        "decoder = UpSampling2D(2,name = 'decoder_layer7')(decoder)\r\n",
        "decoder = Conv2DTranspose(32, (3,3), activation='relu' , name = 'decoder_layer8')(decoder)\r\n",
        "decoder = AveragePooling2D((3,3), name = 'decoder_layer9')(decoder)\r\n",
        "output_decoder = Conv2D(3,(13,13), name = 'decoder_layer10' , activation= 'relu')(decoder)\r\n",
        "\r\n",
        "Decoder = Model(inputs= [input_decoder], outputs=[output_decoder],name = 'Decoder')\r\n",
        "\r\n",
        "\r\n",
        "# VAE Model\r\n",
        "VAE_input = Input((256,256,3),name = 'VAE_input')\r\n",
        "VAE_latent = Encoder(VAE_input)\r\n",
        "VAE_output = Decoder(VAE_latent)\r\n",
        "VAE = Model(inputs= [VAE_input], outputs=[VAE_output],name = 'VAE')"
      ],
      "execution_count": null,
      "outputs": []
    },
    {
      "cell_type": "code",
      "metadata": {
        "id": "jSPOsGr1cmgw"
      },
      "source": [
        "'''\r\n",
        "define perceptual_loss\r\n",
        "'''\r\n",
        "\r\n",
        "selected_layers = ['block1_conv1', 'block2_conv2',\"block3_conv1\",\"block3_conv3\" ,'block4_conv1',\r\n",
        "                   'block4_conv3','block5_conv1','block5_conv2','block5_conv3','block5_conv4']\r\n",
        "\r\n",
        "selected_layer_weights = [1.0, 1.0 , 1.0 , 2.0 ,2.0,\r\n",
        "                         3.0 , 3.0 ,4.0 ,4.0, 5.0]\r\n",
        "\r\n",
        "vgg = VGG19(weights='imagenet', include_top=False, input_shape=(256,256,3))\r\n",
        "vgg.trainable = False\r\n",
        "outputs = [vgg.get_layer(l).output for l in selected_layers]\r\n",
        "model = Model(vgg.input, outputs)\r\n",
        "\r\n",
        "@tf.function\r\n",
        "def perceptual_loss(input_image , reconstruct_image):\r\n",
        "    h1_list = model(input_image)\r\n",
        "    h2_list = model(reconstruct_image)\r\n",
        "\r\n",
        "    rc_loss = 0.0\r\n",
        "\r\n",
        "    img = K.batch_flatten(input_image)\r\n",
        "    r_img = K.batch_flatten(reconstruct_image)\r\n",
        "    r_error =  K.sum(K.abs(img - r_img), axis=-1) \r\n",
        "\r\n",
        "    for h1, h2, weight in zip(h1_list, h2_list, selected_layer_weights):\r\n",
        "\r\n",
        "        h1 = K.batch_flatten(h1)\r\n",
        "        h2 = K.batch_flatten(h2)\r\n",
        "        rc_loss = rc_loss + weight * K.sum(K.abs(h1 - h2), axis=-1)\r\n",
        "        rc_loss = rc_loss / 10\r\n",
        "\r\n",
        "    rc_loss = (rc_loss / 26.0)\r\n",
        "    error = (rc_loss + 3*r_error)/4\r\n",
        "\r\n",
        "    return error "
      ],
      "execution_count": null,
      "outputs": []
    },
    {
      "cell_type": "code",
      "metadata": {
        "id": "UoR2Jbszcpi_"
      },
      "source": [
        "# perceputal loss good for RGB loss is so BIG!!!\r\n",
        "rmsprop = RMSprop(learning_rate=0.00025 , momentum=0.99)\r\n",
        "VAE.compile(loss= perceptual_loss, optimizer= rmsprop)\r\n",
        "\r\n",
        "es = EarlyStopping(monitor=\"val_loss\",\r\n",
        "                   patience=6)\r\n",
        "\r\n",
        "cp_callback = ModelCheckpoint(filepath='/gdrive/MyDrive/ImageRetrieval/Models/Best_HSI256_VAE.h5',\r\n",
        "                              monitor='val_loss',\r\n",
        "                              save_weights_only=True,\r\n",
        "                              save_best_only=True,\r\n",
        "                              verbose=1)"
      ],
      "execution_count": null,
      "outputs": []
    },
    {
      "cell_type": "code",
      "metadata": {
        "colab": {
          "base_uri": "https://localhost:8080/"
        },
        "id": "WP1Zipdscwnv",
        "outputId": "92119c82-2019-4a42-a1c2-a6a97b0626e7"
      },
      "source": [
        "paths = glob.glob('/gdrive/MyDrive/ImageRetrieval/animal_database/*/*/*.jpg',recursive = True)\r\n",
        "shuffle(paths)\r\n",
        "len(paths)"
      ],
      "execution_count": null,
      "outputs": [
        {
          "output_type": "execute_result",
          "data": {
            "text/plain": [
              "1740"
            ]
          },
          "metadata": {
            "tags": []
          },
          "execution_count": 47
        }
      ]
    },
    {
      "cell_type": "code",
      "metadata": {
        "colab": {
          "base_uri": "https://localhost:8080/"
        },
        "id": "YfZRLt59cxCf",
        "outputId": "1646f0a2-821c-4f77-d354-023378d943d8"
      },
      "source": [
        "images = []\r\n",
        "for path in paths :\r\n",
        "    img = load_img(path)\r\n",
        "    img = img_to_array(img)\r\n",
        "    hsv_img = rgb2hsv(img)\r\n",
        "    hsv_img[:,:,2] = hsv_img[:,:,2]/255.0\r\n",
        "    hsv_img = hsv_img.astype(np.float32)\r\n",
        "    images.append(hsv_img)\r\n",
        "images = np.asarray(images)\r\n",
        "\r\n",
        "VAE.fit(x=images,y=images,\r\n",
        "    epochs=30,\r\n",
        "    verbose = 1,\r\n",
        "    batch_size = 16,\r\n",
        "    validation_split = 0.2,\r\n",
        "    callbacks = [es,cp_callback])"
      ],
      "execution_count": null,
      "outputs": [
        {
          "output_type": "stream",
          "text": [
            "Epoch 1/30\n",
            "87/87 [==============================] - 48s 528ms/step - loss: 40026.2405 - val_loss: 30811.8828\n",
            "\n",
            "Epoch 00001: val_loss improved from inf to 30811.88281, saving model to /gdrive/MyDrive/ImageRetrieval/Models/Best_HSI256_VAE.h5\n",
            "Epoch 2/30\n",
            "87/87 [==============================] - 45s 521ms/step - loss: 29276.6491 - val_loss: 29189.7637\n",
            "\n",
            "Epoch 00002: val_loss improved from 30811.88281 to 29189.76367, saving model to /gdrive/MyDrive/ImageRetrieval/Models/Best_HSI256_VAE.h5\n",
            "Epoch 3/30\n",
            "87/87 [==============================] - 45s 520ms/step - loss: 28741.7436 - val_loss: 28979.1094\n",
            "\n",
            "Epoch 00003: val_loss improved from 29189.76367 to 28979.10938, saving model to /gdrive/MyDrive/ImageRetrieval/Models/Best_HSI256_VAE.h5\n",
            "Epoch 4/30\n",
            "87/87 [==============================] - 45s 521ms/step - loss: 28420.3981 - val_loss: 28880.8457\n",
            "\n",
            "Epoch 00004: val_loss improved from 28979.10938 to 28880.84570, saving model to /gdrive/MyDrive/ImageRetrieval/Models/Best_HSI256_VAE.h5\n",
            "Epoch 5/30\n",
            "87/87 [==============================] - 45s 520ms/step - loss: 28298.5391 - val_loss: 28788.9863\n",
            "\n",
            "Epoch 00005: val_loss improved from 28880.84570 to 28788.98633, saving model to /gdrive/MyDrive/ImageRetrieval/Models/Best_HSI256_VAE.h5\n",
            "Epoch 6/30\n",
            "87/87 [==============================] - 45s 521ms/step - loss: 28515.6173 - val_loss: 28891.5234\n",
            "\n",
            "Epoch 00006: val_loss did not improve from 28788.98633\n",
            "Epoch 7/30\n",
            "87/87 [==============================] - 45s 520ms/step - loss: 28589.8626 - val_loss: 28891.6094\n",
            "\n",
            "Epoch 00007: val_loss did not improve from 28788.98633\n",
            "Epoch 8/30\n",
            "87/87 [==============================] - 45s 520ms/step - loss: 28425.4545 - val_loss: 28789.7793\n",
            "\n",
            "Epoch 00008: val_loss did not improve from 28788.98633\n",
            "Epoch 9/30\n",
            "87/87 [==============================] - 45s 520ms/step - loss: 28292.4173 - val_loss: 28793.0078\n",
            "\n",
            "Epoch 00009: val_loss did not improve from 28788.98633\n",
            "Epoch 10/30\n",
            "87/87 [==============================] - 45s 522ms/step - loss: 28473.0836 - val_loss: 28808.3789\n",
            "\n",
            "Epoch 00010: val_loss did not improve from 28788.98633\n",
            "Epoch 11/30\n",
            "87/87 [==============================] - 45s 522ms/step - loss: 28412.8225 - val_loss: 28900.1719\n",
            "\n",
            "Epoch 00011: val_loss did not improve from 28788.98633\n"
          ],
          "name": "stdout"
        },
        {
          "output_type": "execute_result",
          "data": {
            "text/plain": [
              "<tensorflow.python.keras.callbacks.History at 0x7f84a04f47f0>"
            ]
          },
          "metadata": {
            "tags": []
          },
          "execution_count": 48
        }
      ]
    },
    {
      "cell_type": "code",
      "metadata": {
        "id": "0HvgzQJTtecD"
      },
      "source": [
        "del images\r\n",
        "del paths"
      ],
      "execution_count": null,
      "outputs": []
    },
    {
      "cell_type": "code",
      "metadata": {
        "id": "PA6UYq3pdJEy"
      },
      "source": [
        "VAE.save(\"/gdrive/MyDrive/ImageRetrieval/Models/HSI256_VAE.h5\")\r\n",
        "Encoder.save(\"/gdrive/MyDrive/ImageRetrieval/Models/HSI256_Encoder.h5\")"
      ],
      "execution_count": null,
      "outputs": []
    },
    {
      "cell_type": "code",
      "metadata": {
        "id": "LlUfvYXa5Y8W"
      },
      "source": [
        "VAE.save_weights('/gdrive/MyDrive/ImageRetrieval/Models/HSI256_VAE_weights.h5')\r\n",
        "Encoder.save_weights('/gdrive/MyDrive/ImageRetrieval/Models/HSI256_Encoder_weights.h5')"
      ],
      "execution_count": null,
      "outputs": []
    },
    {
      "cell_type": "code",
      "metadata": {
        "id": "V_44GTVY3vpw"
      },
      "source": [
        "Encoder.load_weights('/gdrive/MyDrive/ImageRetrieval/Models/HSI256_Encoder.h5')"
      ],
      "execution_count": null,
      "outputs": []
    },
    {
      "cell_type": "code",
      "metadata": {
        "id": "URxacaltdYhn"
      },
      "source": [
        "handle = open('/gdrive/MyDrive/ImageRetrieval/features.pickle', 'rb')\r\n",
        "data = pickle.load(handle)\r\n",
        "ids = list(data.keys())\r\n",
        "for id in ids:\r\n",
        "    c = id.split('-')[0]\r\n",
        "    name = id.split('-')[1]\r\n",
        "\r\n",
        "    path = '/gdrive/MyDrive/ImageRetrieval/animal_database/{}/original/{}.jpg'.format(c,name)\r\n",
        "    img = load_img(path)\r\n",
        "    img = img_to_array(img)\r\n",
        "    hsv_img = rgb2hsv(img)\r\n",
        "    hsv_img[:,:,2] = hsv_img[:,:,2]/255.0\r\n",
        "    hsv_img = hsv_img.astype(np.float64).reshape(1,256,256,3)\r\n",
        "    latent = Encoder(hsv_img).numpy().reshape(64)\r\n",
        "    latent = np.nan_to_num(latent, nan=0)\r\n",
        "    data[id].update({'HSI_features':latent})"
      ],
      "execution_count": null,
      "outputs": []
    },
    {
      "cell_type": "code",
      "metadata": {
        "colab": {
          "base_uri": "https://localhost:8080/"
        },
        "id": "1dnmXRT83SVI",
        "outputId": "b4d8b197-7f9f-4564-fbb0-ce5033247d56"
      },
      "source": [
        "data[list(data.keys())[0]]"
      ],
      "execution_count": null,
      "outputs": [
        {
          "output_type": "execute_result",
          "data": {
            "text/plain": [
              "{'Class': 'bear',\n",
              " 'HSI_features': array([-0.17812833,  0.37212777, -1.1310701 ,  0.33537936,  0.5802564 ,\n",
              "        -0.14642787, -1.2465484 , -0.56308913,  0.71313286,  0.59898704,\n",
              "         0.07730849, -0.6907383 , -0.2860031 ,  0.674686  ,  0.01197079,\n",
              "         0.48183447,  0.82546324, -2.9972262 , -1.1228862 , -0.02145733,\n",
              "         0.19926941,  0.5444888 ,  0.23012805,  0.21430653,  0.59568876,\n",
              "        -2.196142  , -0.16197817, -1.7032446 , -0.793215  ,  0.03182127,\n",
              "        -1.0913075 ,  0.23802769,  0.5797869 , -1.4717253 , -0.57061523,\n",
              "        -0.24286401,  0.13980299,  0.05554444, -0.56562996, -1.530935  ,\n",
              "         0.30818215,  0.3417821 , -1.2453251 , -0.70544773,  0.6671905 ,\n",
              "        -0.44202083, -0.38108897, -0.24227177, -0.9428719 , -1.1091394 ,\n",
              "        -0.01852486,  1.4097743 , -1.1120441 ,  0.08142884, -0.97913057,\n",
              "        -1.5550326 , -0.2748984 , -1.6345724 ,  1.157543  ,  0.00596564,\n",
              "        -0.3912971 , -0.33938825,  0.4434489 ,  1.0437015 ], dtype=float32),\n",
              " 'RGB_features': array([ -1.9234445 ,  -1.8095958 ,   0.96749943,   1.3460538 ,\n",
              "          3.269796  ,   8.092548  ,  -3.268188  ,  -3.207434  ,\n",
              "          3.863232  ,  -2.6285877 ,  -5.094462  ,   2.5095317 ,\n",
              "          4.909684  ,  -5.4401436 ,  -3.6603665 ,  -1.5537701 ,\n",
              "          3.2287621 ,   5.7624564 ,   9.223061  ,  -3.945549  ,\n",
              "          3.4392354 ,  -6.0773773 ,  -4.845225  ,  -4.02974   ,\n",
              "          0.42029238,   1.8787851 ,   5.914448  ,   7.5905175 ,\n",
              "          4.283615  ,  -2.0668159 ,   6.501185  ,  -1.1049765 ,\n",
              "          0.9861054 ,  -8.29251   ,   7.56122   ,   3.451056  ,\n",
              "         -7.3014283 ,  -0.27757758,   5.2176256 ,  -7.6618814 ,\n",
              "          6.3227715 ,  -2.0145023 ,  -4.470111  ,   4.850108  ,\n",
              "         -0.1127351 ,  -2.9018073 ,   3.0576196 ,   5.6622186 ,\n",
              "          1.906201  ,   3.8326595 ,  12.664784  ,   5.170316  ,\n",
              "        -13.236137  ,   0.59512854,   0.30964   ,   6.2589965 ,\n",
              "         -0.43803185,   2.9754908 ,  -0.50538325,   0.6115794 ,\n",
              "         -2.5079584 ,  -4.480353  ,  12.626804  , -11.558441  ],\n",
              "       dtype=float32)}"
            ]
          },
          "metadata": {
            "tags": []
          },
          "execution_count": 54
        }
      ]
    },
    {
      "cell_type": "code",
      "metadata": {
        "id": "bYuTK2WttJ_E"
      },
      "source": [
        "with open('/gdrive/MyDrive/ImageRetrieval/features1.pickle', 'wb') as handle1:\r\n",
        "    pickle.dump(data, handle1, protocol=pickle.HIGHEST_PROTOCOL)"
      ],
      "execution_count": null,
      "outputs": []
    },
    {
      "cell_type": "code",
      "metadata": {
        "id": "f1_Y0jvo6THf"
      },
      "source": [
        "handle = open('/gdrive/MyDrive/ImageRetrieval/representatives.pickle', 'rb')\r\n",
        "data = pickle.load(handle)\r\n",
        "ids = list(data.keys())\r\n",
        "\r\n",
        "for id in ids:\r\n",
        "    paths = glob.glob('/gdrive/MyDrive/ImageRetrieval/animal_database/{}/original/*.jpg'.format(c))\r\n",
        "    sum = np.zeros(64,dtype=np.float32)\r\n",
        "    for path in paths:\r\n",
        "        img = load_img(path)\r\n",
        "        img = img_to_array(img)\r\n",
        "        hsv_img = rgb2hsv(img)\r\n",
        "        hsv_img[:,:,2] = hsv_img[:,:,2]/255.0\r\n",
        "        hsv_img = hsv_img.astype(np.float32).reshape(1,256,256,3)\r\n",
        "        latent = Encoder(hsv_img).numpy().reshape(64)\r\n",
        "        latent = np.nan_to_num(latent, nan=0)\r\n",
        "        sum = sum + latent\r\n",
        "    sum = (sum / len(paths))\r\n",
        "    data[id].update({'HSI':sum})"
      ],
      "execution_count": null,
      "outputs": []
    },
    {
      "cell_type": "code",
      "metadata": {
        "colab": {
          "base_uri": "https://localhost:8080/"
        },
        "id": "xjuYAepQ8Dd0",
        "outputId": "650882e5-f851-44f0-8e7b-47819b7436a6"
      },
      "source": [
        "data['lion']"
      ],
      "execution_count": null,
      "outputs": [
        {
          "output_type": "execute_result",
          "data": {
            "text/plain": [
              "{'HSI': array([ 0.1492762 ,  0.2633912 ,  0.46199462, -0.10007707,  0.4680749 ,\n",
              "         1.13425   , -0.5266292 ,  0.5943809 ,  0.25622612,  0.4648542 ,\n",
              "         0.22927715, -1.2788681 , -0.62736756,  0.0398203 , -0.13232906,\n",
              "         0.25461307,  0.13292469, -1.887102  ,  0.537627  , -0.06311138,\n",
              "         0.3393129 , -0.10818697, -0.30131742,  0.40037513,  0.50632536,\n",
              "        -1.9639274 ,  0.04382346, -1.2270705 , -0.7308    , -0.09887905,\n",
              "        -1.0610863 ,  0.75797755, -0.45577022, -1.472138  , -0.25489902,\n",
              "        -0.9682249 , -0.36585784,  0.34378314,  0.12613672, -0.85120344,\n",
              "        -0.21466185,  0.6654489 , -1.309146  , -0.26215178,  1.2039739 ,\n",
              "         0.06154291, -0.6415315 , -0.33119985, -0.7463157 , -1.0136424 ,\n",
              "        -0.3549541 ,  1.0206946 , -0.11711545,  0.04088916, -0.8476073 ,\n",
              "        -1.2731954 ,  0.7775606 , -0.49178824,  1.0942887 , -0.26612437,\n",
              "         0.31534103, -0.05186249,  0.56495064,  0.8779201 ], dtype=float32),\n",
              " 'RGB': array([ -1.9233102 ,  -1.806939  ,   0.92652535,   1.3456751 ,\n",
              "          3.2527783 ,   8.308395  ,  -3.2589824 ,  -3.2079234 ,\n",
              "          3.8618486 ,  -2.6320202 ,  -5.1053934 ,   2.5094311 ,\n",
              "          4.9078536 ,  -5.4451566 ,  -3.666345  ,  -1.6148926 ,\n",
              "          3.2441883 ,   5.7640557 ,   9.224596  ,  -3.9517365 ,\n",
              "          3.43823   ,  -6.0972033 ,  -4.8457556 ,  -4.029808  ,\n",
              "          0.42005402,   1.8714447 ,   5.903481  ,   7.582283  ,\n",
              "          4.285707  ,  -2.0179632 ,   6.4985194 ,  -1.1057795 ,\n",
              "          0.9756662 ,  -8.270973  ,   8.118682  ,   3.446284  ,\n",
              "         -7.301453  ,  -0.27540517,   5.2186456 ,  -7.6568074 ,\n",
              "          6.3307786 ,  -2.014905  ,  -4.479856  ,   4.801308  ,\n",
              "         -0.103125  ,  -2.9076612 ,   3.059804  ,   5.662183  ,\n",
              "          1.911796  ,   3.8323965 ,  12.664107  ,   5.1224046 ,\n",
              "        -13.203639  ,   0.5351382 ,   0.30779594,   6.2430587 ,\n",
              "         -0.4245783 ,   2.9320133 ,  -0.4708305 ,   0.56670696,\n",
              "         -2.5070148 ,  -4.479712  ,  12.633749  , -11.555998  ],\n",
              "       dtype=float32)}"
            ]
          },
          "metadata": {
            "tags": []
          },
          "execution_count": 57
        }
      ]
    },
    {
      "cell_type": "code",
      "metadata": {
        "id": "k7VrCRBq7tR3"
      },
      "source": [
        "with open('/gdrive/MyDrive/ImageRetrieval/representatives1.pickle', 'wb') as handle1:\r\n",
        "    pickle.dump(data, handle1, protocol=pickle.HIGHEST_PROTOCOL)"
      ],
      "execution_count": null,
      "outputs": []
    },
    {
      "cell_type": "code",
      "metadata": {
        "id": "q0VY0tU18bCh"
      },
      "source": [
        "del data"
      ],
      "execution_count": null,
      "outputs": []
    },
    {
      "cell_type": "markdown",
      "metadata": {
        "id": "n5sAehW-5_02"
      },
      "source": [
        "# LAB color"
      ]
    },
    {
      "cell_type": "code",
      "metadata": {
        "id": "xbxw0LiU5_Q1"
      },
      "source": [
        "from skimage.color import rgb2lab"
      ],
      "execution_count": null,
      "outputs": []
    },
    {
      "cell_type": "code",
      "metadata": {
        "id": "mbcovRTT6QoM"
      },
      "source": [
        "def sample_latent_features(distribution):\r\n",
        "    distribution_mean, distribution_variance = distribution\r\n",
        "    batch_size = tf.shape(distribution_variance)[0]\r\n",
        "    random = tf.keras.backend.random_normal(shape=(batch_size, tf.shape(distribution_variance)[1]))\r\n",
        "    return distribution_mean + tf.exp(0.5 * distribution_variance) * random\r\n",
        "\r\n",
        "# VAE encoder \r\n",
        "'''\r\n",
        "input shape = (256,256,3)\r\n",
        "'''\r\n",
        "\r\n",
        "input_shape = (256,256,3)\r\n",
        "\r\n",
        "input_encoder = Input(input_shape,name = 'encoder_input')\r\n",
        "encoder = Conv2D(8,(3,3),activation = 'relu',name = 'encoder_layer1')(input_encoder)\r\n",
        "encoder = AveragePooling2D(2,2 , name = 'encoder_layer2')(encoder)\r\n",
        "encoder = Conv2D(16,(3,3),activation = 'relu',name = 'encoder_layer3')(encoder)\r\n",
        "encoder = MaxPooling2D(2,2 , name = 'encoder_layer4')(encoder)\r\n",
        "encoder = Conv2D(32,(3,3),activation = 'relu',name = 'encoder_layer5')(encoder)\r\n",
        "encoder = AveragePooling2D(4,4, name = 'encoder_layer6')(encoder)\r\n",
        "encoder = Flatten(name = 'encoder_layer7')(encoder)\r\n",
        "encoder = Dense(64 , activation = 'relu', name = 'encoder_layer8')(encoder)\r\n",
        "\r\n",
        "distribution_mean = Dense(64, name='mean')(encoder)\r\n",
        "distribution_variance = Dense(64, name='log_variance')(encoder)\r\n",
        "\r\n",
        "latent_encoding = Lambda(sample_latent_features , name = 'encoder_output')([distribution_mean, distribution_variance])\r\n",
        "\r\n",
        "Encoder = Model(inputs= [input_encoder], outputs=[latent_encoding],name = 'Encoder')\r\n",
        "\r\n",
        "#VAE decoder\r\n",
        "\r\n",
        "'''\r\n",
        "input shape = (128)\r\n",
        "'''\r\n",
        "\r\n",
        "input_shape = 64\r\n",
        "\r\n",
        "input_decoder = Input(input_shape,name = 'decoder_input')\r\n",
        "decoder = Reshape((1, 1, 64),name = 'decoder_layer1')(input_decoder)\r\n",
        "decoder = Conv2DTranspose(32, (3,3), activation='relu' , name = 'decoder_layer2')(decoder)\r\n",
        "decoder = UpSampling2D(16,name = 'decoder_layer3')(decoder)\r\n",
        "decoder = Conv2DTranspose(32, (3,3), activation='relu' , name = 'decoder_layer4')(decoder)\r\n",
        "decoder = UpSampling2D(8,name = 'decoder_layer5')(decoder)\r\n",
        "decoder = Conv2DTranspose(32, (3,3), activation='relu' , name = 'decoder_layer6')(decoder)\r\n",
        "decoder = UpSampling2D(2,name = 'decoder_layer7')(decoder)\r\n",
        "decoder = Conv2DTranspose(32, (3,3), activation='relu' , name = 'decoder_layer8')(decoder)\r\n",
        "decoder = AveragePooling2D((3,3), name = 'decoder_layer9')(decoder)\r\n",
        "output_decoder = Conv2D(3,(13,13), name = 'decoder_layer10' , activation= 'relu')(decoder)\r\n",
        "\r\n",
        "Decoder = Model(inputs= [input_decoder], outputs=[output_decoder],name = 'Decoder')\r\n",
        "\r\n",
        "\r\n",
        "# VAE Model\r\n",
        "VAE_input = Input((256,256,3),name = 'VAE_input')\r\n",
        "VAE_latent = Encoder(VAE_input)\r\n",
        "VAE_output = Decoder(VAE_latent)\r\n",
        "VAE = Model(inputs= [VAE_input], outputs=[VAE_output],name = 'VAE')"
      ],
      "execution_count": null,
      "outputs": []
    },
    {
      "cell_type": "code",
      "metadata": {
        "id": "pCo5AapD7_-G"
      },
      "source": [
        "rmsprop = RMSprop(learning_rate=0.00025 , momentum=0.99)\r\n",
        "VAE.compile(loss= 'mae', optimizer= rmsprop)\r\n",
        "\r\n",
        "es = EarlyStopping(monitor=\"val_loss\",\r\n",
        "                   patience=6)\r\n",
        "\r\n",
        "cp_callback = ModelCheckpoint(filepath='/gdrive/MyDrive/ImageRetrieval/Models/Best_LAB256_VAE.h5',\r\n",
        "                              monitor='val_loss',\r\n",
        "                              save_weights_only=True,\r\n",
        "                              save_best_only=True,\r\n",
        "                              verbose=1)"
      ],
      "execution_count": null,
      "outputs": []
    },
    {
      "cell_type": "code",
      "metadata": {
        "colab": {
          "base_uri": "https://localhost:8080/"
        },
        "id": "xtzoABmr8Um1",
        "outputId": "4a062eab-8c94-463e-f1e9-1dcd7ddfd1cf"
      },
      "source": [
        "paths = glob.glob('/gdrive/MyDrive/ImageRetrieval/animal_database/*/*/*.jpg',recursive = True)\r\n",
        "shuffle(paths)\r\n",
        "len(paths)"
      ],
      "execution_count": null,
      "outputs": [
        {
          "output_type": "execute_result",
          "data": {
            "text/plain": [
              "1740"
            ]
          },
          "metadata": {
            "tags": []
          },
          "execution_count": 63
        }
      ]
    },
    {
      "cell_type": "code",
      "metadata": {
        "colab": {
          "base_uri": "https://localhost:8080/"
        },
        "id": "9L_eEHbr8AA9",
        "outputId": "f5440cc9-65d5-453e-ca58-c106fac38ff9"
      },
      "source": [
        "images = []\r\n",
        "for path in paths :\r\n",
        "    img = load_img(path)\r\n",
        "    img = img_to_array(img)\r\n",
        "    lab_img = rgb2lab(img)\r\n",
        "    lab_img = lab_img.astype(np.float64)\r\n",
        "    images.append(lab_img)\r\n",
        "images = np.asarray(images)\r\n",
        "\r\n",
        "VAE.fit(x=images,y=images,\r\n",
        "    epochs=30,\r\n",
        "    verbose = 1,\r\n",
        "    batch_size = 16,\r\n",
        "    validation_split = 0.2,\r\n",
        "    callbacks = [es,cp_callback])"
      ],
      "execution_count": null,
      "outputs": [
        {
          "output_type": "stream",
          "text": [
            "Epoch 1/30\n",
            "87/87 [==============================] - 30s 343ms/step - loss: 2235.1857 - val_loss: 2152.8491\n",
            "\n",
            "Epoch 00001: val_loss improved from inf to 2152.84912, saving model to /gdrive/MyDrive/ImageRetrieval/Models/Best_LAB256_VAE.h5\n",
            "Epoch 2/30\n",
            "87/87 [==============================] - 29s 336ms/step - loss: 2205.6983 - val_loss: 2152.8491\n",
            "\n",
            "Epoch 00002: val_loss did not improve from 2152.84912\n",
            "Epoch 3/30\n",
            "87/87 [==============================] - 29s 337ms/step - loss: 2212.2146 - val_loss: 2152.8491\n",
            "\n",
            "Epoch 00003: val_loss did not improve from 2152.84912\n",
            "Epoch 4/30\n",
            "87/87 [==============================] - 29s 337ms/step - loss: 2219.9611 - val_loss: 2152.8491\n",
            "\n",
            "Epoch 00004: val_loss did not improve from 2152.84912\n",
            "Epoch 5/30\n",
            "87/87 [==============================] - 29s 337ms/step - loss: 2212.8788 - val_loss: 2152.8491\n",
            "\n",
            "Epoch 00005: val_loss did not improve from 2152.84912\n",
            "Epoch 6/30\n",
            "87/87 [==============================] - 29s 337ms/step - loss: 2221.0564 - val_loss: 2152.8491\n",
            "\n",
            "Epoch 00006: val_loss did not improve from 2152.84912\n",
            "Epoch 7/30\n",
            "87/87 [==============================] - 29s 337ms/step - loss: 2220.4815 - val_loss: 2152.8491\n",
            "\n",
            "Epoch 00007: val_loss did not improve from 2152.84912\n"
          ],
          "name": "stdout"
        },
        {
          "output_type": "execute_result",
          "data": {
            "text/plain": [
              "<tensorflow.python.keras.callbacks.History at 0x7f84a070a8d0>"
            ]
          },
          "metadata": {
            "tags": []
          },
          "execution_count": 64
        }
      ]
    },
    {
      "cell_type": "code",
      "metadata": {
        "id": "5h-Qjxh68ADl"
      },
      "source": [
        "del images\r\n",
        "del paths"
      ],
      "execution_count": null,
      "outputs": []
    },
    {
      "cell_type": "code",
      "metadata": {
        "id": "blF04asE8AGc"
      },
      "source": [
        "VAE.save(\"/gdrive/MyDrive/ImageRetrieval/Models/LAB256_VAE.h5\")\r\n",
        "Encoder.save(\"/gdrive/MyDrive/ImageRetrieval/Models/LAB256_Encoder.h5\")"
      ],
      "execution_count": null,
      "outputs": []
    },
    {
      "cell_type": "code",
      "metadata": {
        "id": "IDQuxBZO9X9P"
      },
      "source": [
        "VAE.save_weights('/gdrive/MyDrive/ImageRetrieval/Models/LAB256_VAE_weights.h5')\r\n",
        "Encoder.save_weights('/gdrive/MyDrive/ImageRetrieval/Models/LAB256_Encoder_weights.h5')"
      ],
      "execution_count": null,
      "outputs": []
    },
    {
      "cell_type": "code",
      "metadata": {
        "id": "Q9hy5FS_9add"
      },
      "source": [
        "Encoder.load_weights('/gdrive/MyDrive/ImageRetrieval/Models/LAB256_Encoder.h5')"
      ],
      "execution_count": null,
      "outputs": []
    },
    {
      "cell_type": "code",
      "metadata": {
        "id": "cGOMDyGX9frG"
      },
      "source": [
        "handle = open('/gdrive/MyDrive/ImageRetrieval/features1.pickle', 'rb')\r\n",
        "data = pickle.load(handle)\r\n",
        "ids = list(data.keys())\r\n",
        "for id in ids:\r\n",
        "    c = id.split('-')[0]\r\n",
        "    name = id.split('-')[1]\r\n",
        "\r\n",
        "    path = '/gdrive/MyDrive/ImageRetrieval/animal_database/{}/original/{}.jpg'.format(c,name)\r\n",
        "    img = load_img(path)\r\n",
        "    img = img_to_array(img)\r\n",
        "    lab_img = rgb2lab(img)\r\n",
        "    lab_img = lab_img.astype(np.float32).reshape(1,256,256,3)\r\n",
        "    latent = Encoder(lab_img).numpy().reshape(64)\r\n",
        "    latent = np.nan_to_num(latent, nan=0)\r\n",
        "    data[id].update({'LAB_features':latent})"
      ],
      "execution_count": null,
      "outputs": []
    },
    {
      "cell_type": "code",
      "metadata": {
        "colab": {
          "base_uri": "https://localhost:8080/"
        },
        "id": "UBQxGcmv9ftT",
        "outputId": "27eccc63-1270-457d-c1e9-577071fcef30"
      },
      "source": [
        "data[list(data.keys())[0]]"
      ],
      "execution_count": null,
      "outputs": [
        {
          "output_type": "execute_result",
          "data": {
            "text/plain": [
              "{'Class': 'bear',\n",
              " 'HSI_features': array([-0.17812833,  0.37212777, -1.1310701 ,  0.33537936,  0.5802564 ,\n",
              "        -0.14642787, -1.2465484 , -0.56308913,  0.71313286,  0.59898704,\n",
              "         0.07730849, -0.6907383 , -0.2860031 ,  0.674686  ,  0.01197079,\n",
              "         0.48183447,  0.82546324, -2.9972262 , -1.1228862 , -0.02145733,\n",
              "         0.19926941,  0.5444888 ,  0.23012805,  0.21430653,  0.59568876,\n",
              "        -2.196142  , -0.16197817, -1.7032446 , -0.793215  ,  0.03182127,\n",
              "        -1.0913075 ,  0.23802769,  0.5797869 , -1.4717253 , -0.57061523,\n",
              "        -0.24286401,  0.13980299,  0.05554444, -0.56562996, -1.530935  ,\n",
              "         0.30818215,  0.3417821 , -1.2453251 , -0.70544773,  0.6671905 ,\n",
              "        -0.44202083, -0.38108897, -0.24227177, -0.9428719 , -1.1091394 ,\n",
              "        -0.01852486,  1.4097743 , -1.1120441 ,  0.08142884, -0.97913057,\n",
              "        -1.5550326 , -0.2748984 , -1.6345724 ,  1.157543  ,  0.00596564,\n",
              "        -0.3912971 , -0.33938825,  0.4434489 ,  1.0437015 ], dtype=float32),\n",
              " 'LAB_features': array([-0.04759364, -0.6469684 ,  0.        ,  0.        ,  0.        ,\n",
              "         0.        ,  0.        ,  0.        ,  0.        ,  0.        ,\n",
              "         0.        ,  0.12576327,  0.        ,  0.        ,  0.        ,\n",
              "         0.14032805,  0.        ,  0.        ,  0.        ,  0.        ,\n",
              "        -0.299629  ,  0.        ,  0.        ,  0.        ,  0.        ,\n",
              "        -0.25806412,  0.        ,  0.28330025,  0.        ,  0.        ,\n",
              "         0.        ,  0.9764511 ,  0.        ,  2.2127557 ,  0.        ,\n",
              "         0.3652986 ,  0.        ,  0.        ,  0.6765745 ,  0.        ,\n",
              "         0.        ,  0.        , -1.7495161 , -1.3461597 ,  0.        ,\n",
              "        -0.6388154 , -1.1981881 , -0.21742499,  0.        ,  0.        ,\n",
              "         0.        ,  0.        ,  0.        ,  0.        ,  0.        ,\n",
              "         0.        ,  0.        ,  0.        ,  0.        ,  0.        ,\n",
              "         0.        ,  0.        ,  0.        ,  0.        ], dtype=float32),\n",
              " 'RGB_features': array([ -1.9234445 ,  -1.8095958 ,   0.96749943,   1.3460538 ,\n",
              "          3.269796  ,   8.092548  ,  -3.268188  ,  -3.207434  ,\n",
              "          3.863232  ,  -2.6285877 ,  -5.094462  ,   2.5095317 ,\n",
              "          4.909684  ,  -5.4401436 ,  -3.6603665 ,  -1.5537701 ,\n",
              "          3.2287621 ,   5.7624564 ,   9.223061  ,  -3.945549  ,\n",
              "          3.4392354 ,  -6.0773773 ,  -4.845225  ,  -4.02974   ,\n",
              "          0.42029238,   1.8787851 ,   5.914448  ,   7.5905175 ,\n",
              "          4.283615  ,  -2.0668159 ,   6.501185  ,  -1.1049765 ,\n",
              "          0.9861054 ,  -8.29251   ,   7.56122   ,   3.451056  ,\n",
              "         -7.3014283 ,  -0.27757758,   5.2176256 ,  -7.6618814 ,\n",
              "          6.3227715 ,  -2.0145023 ,  -4.470111  ,   4.850108  ,\n",
              "         -0.1127351 ,  -2.9018073 ,   3.0576196 ,   5.6622186 ,\n",
              "          1.906201  ,   3.8326595 ,  12.664784  ,   5.170316  ,\n",
              "        -13.236137  ,   0.59512854,   0.30964   ,   6.2589965 ,\n",
              "         -0.43803185,   2.9754908 ,  -0.50538325,   0.6115794 ,\n",
              "         -2.5079584 ,  -4.480353  ,  12.626804  , -11.558441  ],\n",
              "       dtype=float32)}"
            ]
          },
          "metadata": {
            "tags": []
          },
          "execution_count": 72
        }
      ]
    },
    {
      "cell_type": "code",
      "metadata": {
        "id": "SlWAdNGF9fvh"
      },
      "source": [
        "with open('/gdrive/MyDrive/ImageRetrieval/features2.pickle', 'wb') as handle1:\r\n",
        "    pickle.dump(data, handle1, protocol=pickle.HIGHEST_PROTOCOL)"
      ],
      "execution_count": null,
      "outputs": []
    },
    {
      "cell_type": "code",
      "metadata": {
        "id": "s8zIhLx69z07"
      },
      "source": [
        "handle = open('/gdrive/MyDrive/ImageRetrieval/representatives1.pickle', 'rb')\r\n",
        "data = pickle.load(handle)\r\n",
        "ids = list(data.keys())\r\n",
        "\r\n",
        "for id in ids:\r\n",
        "    paths = glob.glob('/gdrive/MyDrive/ImageRetrieval/animal_database/{}/original/*.jpg'.format(c))\r\n",
        "    sum = np.zeros(64,dtype=np.float32)\r\n",
        "    for path in paths:\r\n",
        "        img = load_img(path)\r\n",
        "        img = img_to_array(img)\r\n",
        "        lab_img = rgb2lab(img)\r\n",
        "        lab_img = lab_img.astype(np.float32).reshape(1,256,256,3)\r\n",
        "        latent = Encoder(lab_img).numpy().reshape(64)\r\n",
        "        latent = np.nan_to_num(latent, nan=0)\r\n",
        "        sum = sum + latent\r\n",
        "    sum = (sum / len(paths))\r\n",
        "    data[id].update({'LAB':sum})"
      ],
      "execution_count": null,
      "outputs": []
    },
    {
      "cell_type": "code",
      "metadata": {
        "colab": {
          "base_uri": "https://localhost:8080/"
        },
        "id": "yoNuh4ME9z3k",
        "outputId": "d7961eb0-251f-444d-a88f-436986e50d59"
      },
      "source": [
        "data['lion']"
      ],
      "execution_count": null,
      "outputs": [
        {
          "output_type": "execute_result",
          "data": {
            "text/plain": [
              "{'HSI': array([ 0.1492762 ,  0.2633912 ,  0.46199462, -0.10007707,  0.4680749 ,\n",
              "         1.13425   , -0.5266292 ,  0.5943809 ,  0.25622612,  0.4648542 ,\n",
              "         0.22927715, -1.2788681 , -0.62736756,  0.0398203 , -0.13232906,\n",
              "         0.25461307,  0.13292469, -1.887102  ,  0.537627  , -0.06311138,\n",
              "         0.3393129 , -0.10818697, -0.30131742,  0.40037513,  0.50632536,\n",
              "        -1.9639274 ,  0.04382346, -1.2270705 , -0.7308    , -0.09887905,\n",
              "        -1.0610863 ,  0.75797755, -0.45577022, -1.472138  , -0.25489902,\n",
              "        -0.9682249 , -0.36585784,  0.34378314,  0.12613672, -0.85120344,\n",
              "        -0.21466185,  0.6654489 , -1.309146  , -0.26215178,  1.2039739 ,\n",
              "         0.06154291, -0.6415315 , -0.33119985, -0.7463157 , -1.0136424 ,\n",
              "        -0.3549541 ,  1.0206946 , -0.11711545,  0.04088916, -0.8476073 ,\n",
              "        -1.2731954 ,  0.7775606 , -0.49178824,  1.0942887 , -0.26612437,\n",
              "         0.31534103, -0.05186249,  0.56495064,  0.8779201 ], dtype=float32),\n",
              " 'LAB': array([-0.14053695,  0.1046054 ,  0.        ,  0.        ,  0.        ,\n",
              "         0.        ,  0.        ,  0.        ,  0.        ,  0.        ,\n",
              "         0.        , -0.10923709,  0.        ,  0.        ,  0.        ,\n",
              "         0.07297158,  0.        ,  0.        ,  0.        ,  0.        ,\n",
              "         0.05760756,  0.        ,  0.        ,  0.        ,  0.        ,\n",
              "         0.05334255,  0.        , -0.08635238,  0.        ,  0.        ,\n",
              "         0.        ,  0.0203922 ,  0.        ,  0.09221665,  0.        ,\n",
              "         0.04004037,  0.        ,  0.        , -0.11969634,  0.        ,\n",
              "         0.        ,  0.        , -0.15654445, -0.02946812,  0.        ,\n",
              "         0.03551586, -0.0292381 , -0.17333487,  0.        ,  0.        ,\n",
              "         0.        ,  0.        ,  0.        ,  0.        ,  0.        ,\n",
              "         0.        ,  0.        ,  0.        ,  0.        ,  0.        ,\n",
              "         0.        ,  0.        ,  0.        ,  0.        ], dtype=float32),\n",
              " 'RGB': array([ -1.9233102 ,  -1.806939  ,   0.92652535,   1.3456751 ,\n",
              "          3.2527783 ,   8.308395  ,  -3.2589824 ,  -3.2079234 ,\n",
              "          3.8618486 ,  -2.6320202 ,  -5.1053934 ,   2.5094311 ,\n",
              "          4.9078536 ,  -5.4451566 ,  -3.666345  ,  -1.6148926 ,\n",
              "          3.2441883 ,   5.7640557 ,   9.224596  ,  -3.9517365 ,\n",
              "          3.43823   ,  -6.0972033 ,  -4.8457556 ,  -4.029808  ,\n",
              "          0.42005402,   1.8714447 ,   5.903481  ,   7.582283  ,\n",
              "          4.285707  ,  -2.0179632 ,   6.4985194 ,  -1.1057795 ,\n",
              "          0.9756662 ,  -8.270973  ,   8.118682  ,   3.446284  ,\n",
              "         -7.301453  ,  -0.27540517,   5.2186456 ,  -7.6568074 ,\n",
              "          6.3307786 ,  -2.014905  ,  -4.479856  ,   4.801308  ,\n",
              "         -0.103125  ,  -2.9076612 ,   3.059804  ,   5.662183  ,\n",
              "          1.911796  ,   3.8323965 ,  12.664107  ,   5.1224046 ,\n",
              "        -13.203639  ,   0.5351382 ,   0.30779594,   6.2430587 ,\n",
              "         -0.4245783 ,   2.9320133 ,  -0.4708305 ,   0.56670696,\n",
              "         -2.5070148 ,  -4.479712  ,  12.633749  , -11.555998  ],\n",
              "       dtype=float32)}"
            ]
          },
          "metadata": {
            "tags": []
          },
          "execution_count": 75
        }
      ]
    },
    {
      "cell_type": "code",
      "metadata": {
        "id": "PRxR9OSf9z58"
      },
      "source": [
        "with open('/gdrive/MyDrive/ImageRetrieval/representatives2.pickle', 'wb') as handle1:\r\n",
        "    pickle.dump(data, handle1, protocol=pickle.HIGHEST_PROTOCOL)"
      ],
      "execution_count": null,
      "outputs": []
    },
    {
      "cell_type": "code",
      "metadata": {
        "id": "05cvvYZs9z8h"
      },
      "source": [
        "del data"
      ],
      "execution_count": null,
      "outputs": []
    },
    {
      "cell_type": "markdown",
      "metadata": {
        "id": "VhX0ibLECDYK"
      },
      "source": [
        "# XYZ color"
      ]
    },
    {
      "cell_type": "code",
      "metadata": {
        "id": "wlDvt3mD9z_G"
      },
      "source": [
        "from skimage.color import rgb2xyz"
      ],
      "execution_count": null,
      "outputs": []
    },
    {
      "cell_type": "code",
      "metadata": {
        "id": "g7N1BIJ5CJx8"
      },
      "source": [
        "def sample_latent_features(distribution):\r\n",
        "    distribution_mean, distribution_variance = distribution\r\n",
        "    batch_size = tf.shape(distribution_variance)[0]\r\n",
        "    random = tf.keras.backend.random_normal(shape=(batch_size, tf.shape(distribution_variance)[1]))\r\n",
        "    return distribution_mean + tf.exp(0.5 * distribution_variance) * random\r\n",
        "\r\n",
        "# VAE encoder \r\n",
        "'''\r\n",
        "input shape = (256,256,3)\r\n",
        "'''\r\n",
        "\r\n",
        "input_shape = (256,256,3)\r\n",
        "\r\n",
        "input_encoder = Input(input_shape,name = 'encoder_input')\r\n",
        "encoder = Conv2D(8,(3,3),activation = 'relu',name = 'encoder_layer1')(input_encoder)\r\n",
        "encoder = AveragePooling2D(2,2 , name = 'encoder_layer2')(encoder)\r\n",
        "encoder = Conv2D(16,(3,3),activation = 'relu',name = 'encoder_layer3')(encoder)\r\n",
        "encoder = MaxPooling2D(2,2 , name = 'encoder_layer4')(encoder)\r\n",
        "encoder = Conv2D(32,(3,3),activation = 'relu',name = 'encoder_layer5')(encoder)\r\n",
        "encoder = AveragePooling2D(4,4, name = 'encoder_layer6')(encoder)\r\n",
        "encoder = Flatten(name = 'encoder_layer7')(encoder)\r\n",
        "encoder = Dense(64 , activation = 'relu', name = 'encoder_layer8')(encoder)\r\n",
        "\r\n",
        "distribution_mean = Dense(64, name='mean')(encoder)\r\n",
        "distribution_variance = Dense(64, name='log_variance')(encoder)\r\n",
        "\r\n",
        "latent_encoding = Lambda(sample_latent_features , name = 'encoder_output')([distribution_mean, distribution_variance])\r\n",
        "\r\n",
        "Encoder = Model(inputs= [input_encoder], outputs=[latent_encoding],name = 'Encoder')\r\n",
        "\r\n",
        "#VAE decoder\r\n",
        "\r\n",
        "'''\r\n",
        "input shape = (128)\r\n",
        "'''\r\n",
        "\r\n",
        "input_shape = 64\r\n",
        "\r\n",
        "input_decoder = Input(input_shape,name = 'decoder_input')\r\n",
        "decoder = Reshape((1, 1, 64),name = 'decoder_layer1')(input_decoder)\r\n",
        "decoder = Conv2DTranspose(32, (3,3), activation='relu' , name = 'decoder_layer2')(decoder)\r\n",
        "decoder = UpSampling2D(16,name = 'decoder_layer3')(decoder)\r\n",
        "decoder = Conv2DTranspose(32, (3,3), activation='relu' , name = 'decoder_layer4')(decoder)\r\n",
        "decoder = UpSampling2D(8,name = 'decoder_layer5')(decoder)\r\n",
        "decoder = Conv2DTranspose(32, (3,3), activation='relu' , name = 'decoder_layer6')(decoder)\r\n",
        "decoder = UpSampling2D(2,name = 'decoder_layer7')(decoder)\r\n",
        "decoder = Conv2DTranspose(32, (3,3), activation='relu' , name = 'decoder_layer8')(decoder)\r\n",
        "decoder = AveragePooling2D((3,3), name = 'decoder_layer9')(decoder)\r\n",
        "output_decoder = Conv2D(3,(13,13), name = 'decoder_layer10' , activation= 'relu')(decoder)\r\n",
        "\r\n",
        "Decoder = Model(inputs= [input_decoder], outputs=[output_decoder],name = 'Decoder')\r\n",
        "\r\n",
        "\r\n",
        "# VAE Model\r\n",
        "VAE_input = Input((256,256,3),name = 'VAE_input')\r\n",
        "VAE_latent = Encoder(VAE_input)\r\n",
        "VAE_output = Decoder(VAE_latent)\r\n",
        "VAE = Model(inputs= [VAE_input], outputs=[VAE_output],name = 'VAE')"
      ],
      "execution_count": null,
      "outputs": []
    },
    {
      "cell_type": "code",
      "metadata": {
        "id": "kV6hGmIJCM8R"
      },
      "source": [
        "rmsprop = RMSprop(learning_rate=0.00025 , momentum=0.99)\r\n",
        "VAE.compile(loss= 'mae', optimizer= rmsprop)\r\n",
        "\r\n",
        "es = EarlyStopping(monitor=\"val_loss\",\r\n",
        "                   patience=6)\r\n",
        "\r\n",
        "cp_callback = ModelCheckpoint(filepath='/gdrive/MyDrive/ImageRetrieval/Models/Best_XYZ256_VAE.h5',\r\n",
        "                              monitor='val_loss',\r\n",
        "                              save_weights_only=True,\r\n",
        "                              save_best_only=True,\r\n",
        "                              verbose=1)"
      ],
      "execution_count": null,
      "outputs": []
    },
    {
      "cell_type": "code",
      "metadata": {
        "colab": {
          "base_uri": "https://localhost:8080/"
        },
        "id": "0iKnmD9KCSrs",
        "outputId": "cc94fb20-6969-4d6d-8247-87de0b65314f"
      },
      "source": [
        "paths = glob.glob('/gdrive/MyDrive/ImageRetrieval/animal_database/*/*/*.jpg',recursive = True)\r\n",
        "shuffle(paths)\r\n",
        "len(paths)"
      ],
      "execution_count": null,
      "outputs": [
        {
          "output_type": "execute_result",
          "data": {
            "text/plain": [
              "1740"
            ]
          },
          "metadata": {
            "tags": []
          },
          "execution_count": 81
        }
      ]
    },
    {
      "cell_type": "code",
      "metadata": {
        "colab": {
          "base_uri": "https://localhost:8080/"
        },
        "id": "-qYLPyaHCWxH",
        "outputId": "1fcbec5c-15fc-4fa4-fb8d-496035695ce6"
      },
      "source": [
        "images = []\r\n",
        "for path in paths :\r\n",
        "    img = load_img(path)\r\n",
        "    img = img_to_array(img)\r\n",
        "    xyz_img = rgb2xyz(img)\r\n",
        "    xyz_img = xyz_img.astype(np.float32)\r\n",
        "    images.append(xyz_img)\r\n",
        "images = np.asarray(images)\r\n",
        "\r\n",
        "VAE.fit(x=images,y=images,\r\n",
        "    epochs=30,\r\n",
        "    verbose = 1,\r\n",
        "    batch_size = 16,\r\n",
        "    validation_split = 0.2,\r\n",
        "    callbacks = [es,cp_callback])"
      ],
      "execution_count": null,
      "outputs": [
        {
          "output_type": "stream",
          "text": [
            "Epoch 1/30\n",
            "87/87 [==============================] - 30s 339ms/step - loss: 103112.4139 - val_loss: 98211.3438\n",
            "\n",
            "Epoch 00001: val_loss improved from inf to 98211.34375, saving model to /gdrive/MyDrive/ImageRetrieval/Models/Best_XYZ256_VAE.h5\n",
            "Epoch 2/30\n",
            "87/87 [==============================] - 29s 336ms/step - loss: 103245.7951 - val_loss: 98211.3438\n",
            "\n",
            "Epoch 00002: val_loss did not improve from 98211.34375\n",
            "Epoch 3/30\n",
            "87/87 [==============================] - 29s 338ms/step - loss: 102127.7908 - val_loss: 98211.3438\n",
            "\n",
            "Epoch 00003: val_loss did not improve from 98211.34375\n",
            "Epoch 4/30\n",
            "87/87 [==============================] - 29s 335ms/step - loss: 104613.7470 - val_loss: 98211.3438\n",
            "\n",
            "Epoch 00004: val_loss did not improve from 98211.34375\n",
            "Epoch 5/30\n",
            "87/87 [==============================] - 29s 336ms/step - loss: 101666.6850 - val_loss: 98211.3438\n",
            "\n",
            "Epoch 00005: val_loss did not improve from 98211.34375\n",
            "Epoch 6/30\n",
            "87/87 [==============================] - 29s 336ms/step - loss: 101263.5782 - val_loss: 98211.3438\n",
            "\n",
            "Epoch 00006: val_loss did not improve from 98211.34375\n",
            "Epoch 7/30\n",
            "87/87 [==============================] - 29s 335ms/step - loss: 101796.3712 - val_loss: 98211.3438\n",
            "\n",
            "Epoch 00007: val_loss did not improve from 98211.34375\n"
          ],
          "name": "stdout"
        },
        {
          "output_type": "execute_result",
          "data": {
            "text/plain": [
              "<tensorflow.python.keras.callbacks.History at 0x7f84a078d4e0>"
            ]
          },
          "metadata": {
            "tags": []
          },
          "execution_count": 82
        }
      ]
    },
    {
      "cell_type": "code",
      "metadata": {
        "id": "M_j1qmEREG1W"
      },
      "source": [
        "VAE.save(\"/gdrive/MyDrive/ImageRetrieval/Models/XYZ256_VAE.h5\")\r\n",
        "Encoder.save(\"/gdrive/MyDrive/ImageRetrieval/Models/XYZ256_Encoder.h5\")"
      ],
      "execution_count": null,
      "outputs": []
    },
    {
      "cell_type": "code",
      "metadata": {
        "id": "I3rDz7s1EKRi"
      },
      "source": [
        "VAE.save_weights('/gdrive/MyDrive/ImageRetrieval/Models/XYZ256_VAE_weights.h5')\r\n",
        "Encoder.save_weights('/gdrive/MyDrive/ImageRetrieval/Models/XYZ256_Encoder_weights.h5')"
      ],
      "execution_count": null,
      "outputs": []
    },
    {
      "cell_type": "code",
      "metadata": {
        "id": "VLLM91jDEKUK"
      },
      "source": [
        "Encoder.load_weights('/gdrive/MyDrive/ImageRetrieval/Models/XYZ256_Encoder.h5')"
      ],
      "execution_count": null,
      "outputs": []
    },
    {
      "cell_type": "code",
      "metadata": {
        "id": "ShELIYBxEKW7"
      },
      "source": [
        "handle = open('/gdrive/MyDrive/ImageRetrieval/features2.pickle', 'rb')\r\n",
        "data = pickle.load(handle)\r\n",
        "ids = list(data.keys())\r\n",
        "for id in ids:\r\n",
        "    c = id.split('-')[0]\r\n",
        "    name = id.split('-')[1]\r\n",
        "\r\n",
        "    path = '/gdrive/MyDrive/ImageRetrieval/animal_database/{}/original/{}.jpg'.format(c,name)\r\n",
        "    img = load_img(path)\r\n",
        "    img = img_to_array(img)\r\n",
        "    xyz_img = rgb2xyz(img)\r\n",
        "    xyz_img = xyz_img.astype(np.float32).reshape(1,256,256,3)\r\n",
        "    latent = Encoder(xyz_img).numpy().reshape(64)\r\n",
        "    latent = np.nan_to_num(latent, nan=0)\r\n",
        "    data[id].update({'XYZ_features':latent})"
      ],
      "execution_count": null,
      "outputs": []
    },
    {
      "cell_type": "code",
      "metadata": {
        "colab": {
          "base_uri": "https://localhost:8080/"
        },
        "id": "c-WG-2K-EKZm",
        "outputId": "de91b0b4-3398-4b32-b31a-03f24e075b6c"
      },
      "source": [
        "data[list(data.keys())[0]]"
      ],
      "execution_count": null,
      "outputs": [
        {
          "output_type": "execute_result",
          "data": {
            "text/plain": [
              "{'Class': 'bear',\n",
              " 'HSI_features': array([-0.17812833,  0.37212777, -1.1310701 ,  0.33537936,  0.5802564 ,\n",
              "        -0.14642787, -1.2465484 , -0.56308913,  0.71313286,  0.59898704,\n",
              "         0.07730849, -0.6907383 , -0.2860031 ,  0.674686  ,  0.01197079,\n",
              "         0.48183447,  0.82546324, -2.9972262 , -1.1228862 , -0.02145733,\n",
              "         0.19926941,  0.5444888 ,  0.23012805,  0.21430653,  0.59568876,\n",
              "        -2.196142  , -0.16197817, -1.7032446 , -0.793215  ,  0.03182127,\n",
              "        -1.0913075 ,  0.23802769,  0.5797869 , -1.4717253 , -0.57061523,\n",
              "        -0.24286401,  0.13980299,  0.05554444, -0.56562996, -1.530935  ,\n",
              "         0.30818215,  0.3417821 , -1.2453251 , -0.70544773,  0.6671905 ,\n",
              "        -0.44202083, -0.38108897, -0.24227177, -0.9428719 , -1.1091394 ,\n",
              "        -0.01852486,  1.4097743 , -1.1120441 ,  0.08142884, -0.97913057,\n",
              "        -1.5550326 , -0.2748984 , -1.6345724 ,  1.157543  ,  0.00596564,\n",
              "        -0.3912971 , -0.33938825,  0.4434489 ,  1.0437015 ], dtype=float32),\n",
              " 'LAB_features': array([-0.04759364, -0.6469684 ,  0.        ,  0.        ,  0.        ,\n",
              "         0.        ,  0.        ,  0.        ,  0.        ,  0.        ,\n",
              "         0.        ,  0.12576327,  0.        ,  0.        ,  0.        ,\n",
              "         0.14032805,  0.        ,  0.        ,  0.        ,  0.        ,\n",
              "        -0.299629  ,  0.        ,  0.        ,  0.        ,  0.        ,\n",
              "        -0.25806412,  0.        ,  0.28330025,  0.        ,  0.        ,\n",
              "         0.        ,  0.9764511 ,  0.        ,  2.2127557 ,  0.        ,\n",
              "         0.3652986 ,  0.        ,  0.        ,  0.6765745 ,  0.        ,\n",
              "         0.        ,  0.        , -1.7495161 , -1.3461597 ,  0.        ,\n",
              "        -0.6388154 , -1.1981881 , -0.21742499,  0.        ,  0.        ,\n",
              "         0.        ,  0.        ,  0.        ,  0.        ,  0.        ,\n",
              "         0.        ,  0.        ,  0.        ,  0.        ,  0.        ,\n",
              "         0.        ,  0.        ,  0.        ,  0.        ], dtype=float32),\n",
              " 'RGB_features': array([ -1.9234445 ,  -1.8095958 ,   0.96749943,   1.3460538 ,\n",
              "          3.269796  ,   8.092548  ,  -3.268188  ,  -3.207434  ,\n",
              "          3.863232  ,  -2.6285877 ,  -5.094462  ,   2.5095317 ,\n",
              "          4.909684  ,  -5.4401436 ,  -3.6603665 ,  -1.5537701 ,\n",
              "          3.2287621 ,   5.7624564 ,   9.223061  ,  -3.945549  ,\n",
              "          3.4392354 ,  -6.0773773 ,  -4.845225  ,  -4.02974   ,\n",
              "          0.42029238,   1.8787851 ,   5.914448  ,   7.5905175 ,\n",
              "          4.283615  ,  -2.0668159 ,   6.501185  ,  -1.1049765 ,\n",
              "          0.9861054 ,  -8.29251   ,   7.56122   ,   3.451056  ,\n",
              "         -7.3014283 ,  -0.27757758,   5.2176256 ,  -7.6618814 ,\n",
              "          6.3227715 ,  -2.0145023 ,  -4.470111  ,   4.850108  ,\n",
              "         -0.1127351 ,  -2.9018073 ,   3.0576196 ,   5.6622186 ,\n",
              "          1.906201  ,   3.8326595 ,  12.664784  ,   5.170316  ,\n",
              "        -13.236137  ,   0.59512854,   0.30964   ,   6.2589965 ,\n",
              "         -0.43803185,   2.9754908 ,  -0.50538325,   0.6115794 ,\n",
              "         -2.5079584 ,  -4.480353  ,  12.626804  , -11.558441  ],\n",
              "       dtype=float32),\n",
              " 'XYZ_features': array([ 0.        ,  0.        ,  0.        ,  0.        ,  0.        ,\n",
              "         0.        ,  0.        ,  0.        ,  0.        ,  0.        ,\n",
              "         0.        ,  0.        ,  0.        ,  0.        , -1.0771899 ,\n",
              "         0.        ,  0.        , -0.20243442,  0.        ,  0.        ,\n",
              "         0.        ,  0.24737006,  0.        , -0.51772743,  0.        ,\n",
              "         0.        ,  0.        ,  0.        ,  0.        ,  0.604255  ,\n",
              "        -0.22234996,  0.        ,  0.        ,  0.        ,  0.        ,\n",
              "         0.        ,  0.        ,  0.        ,  0.        ,  0.        ,\n",
              "         0.        ,  0.        ,  0.        ,  0.        ,  0.        ,\n",
              "         0.        ,  0.28816321,  0.92333454,  0.        ,  2.839309  ,\n",
              "         0.        ,  0.        ,  0.        ,  0.        ,  0.        ,\n",
              "         0.        ,  0.        ,  0.        ,  0.        ,  0.        ,\n",
              "         0.0189472 ,  0.        , -1.5692774 ,  0.        ], dtype=float32)}"
            ]
          },
          "metadata": {
            "tags": []
          },
          "execution_count": 87
        }
      ]
    },
    {
      "cell_type": "code",
      "metadata": {
        "id": "dqKjDwbNEG3k"
      },
      "source": [
        "with open('/gdrive/MyDrive/ImageRetrieval/features3.pickle', 'wb') as handle1:\r\n",
        "    pickle.dump(data, handle1, protocol=pickle.HIGHEST_PROTOCOL)"
      ],
      "execution_count": null,
      "outputs": []
    },
    {
      "cell_type": "code",
      "metadata": {
        "id": "bMzr178gEG6H"
      },
      "source": [
        "handle = open('/gdrive/MyDrive/ImageRetrieval/representatives2.pickle', 'rb')\r\n",
        "data = pickle.load(handle)\r\n",
        "ids = list(data.keys())\r\n",
        "\r\n",
        "for id in ids:\r\n",
        "    paths = glob.glob('/gdrive/MyDrive/ImageRetrieval/animal_database/{}/original/*.jpg'.format(c))\r\n",
        "    sum = np.zeros(64,dtype=np.float32)\r\n",
        "    for path in paths:\r\n",
        "        img = load_img(path)\r\n",
        "        img = img_to_array(img)\r\n",
        "        xyz_img = rgb2xyz(img)\r\n",
        "        xyz_img = xyz_img.astype(np.float32).reshape(1,256,256,3)\r\n",
        "        latent = Encoder(xyz_img).numpy().reshape(64)\r\n",
        "        latent = np.nan_to_num(latent, nan=0)\r\n",
        "        sum = sum + latent\r\n",
        "    sum = (sum / len(paths))\r\n",
        "    data[id].update({'XYZ':sum})"
      ],
      "execution_count": null,
      "outputs": []
    },
    {
      "cell_type": "code",
      "metadata": {
        "colab": {
          "base_uri": "https://localhost:8080/"
        },
        "id": "aVKb9zx9EG89",
        "outputId": "255e9d96-f42b-492c-ea45-5c2092505d2d"
      },
      "source": [
        "data['lion']"
      ],
      "execution_count": null,
      "outputs": [
        {
          "output_type": "execute_result",
          "data": {
            "text/plain": [
              "{'HSI': array([ 0.1492762 ,  0.2633912 ,  0.46199462, -0.10007707,  0.4680749 ,\n",
              "         1.13425   , -0.5266292 ,  0.5943809 ,  0.25622612,  0.4648542 ,\n",
              "         0.22927715, -1.2788681 , -0.62736756,  0.0398203 , -0.13232906,\n",
              "         0.25461307,  0.13292469, -1.887102  ,  0.537627  , -0.06311138,\n",
              "         0.3393129 , -0.10818697, -0.30131742,  0.40037513,  0.50632536,\n",
              "        -1.9639274 ,  0.04382346, -1.2270705 , -0.7308    , -0.09887905,\n",
              "        -1.0610863 ,  0.75797755, -0.45577022, -1.472138  , -0.25489902,\n",
              "        -0.9682249 , -0.36585784,  0.34378314,  0.12613672, -0.85120344,\n",
              "        -0.21466185,  0.6654489 , -1.309146  , -0.26215178,  1.2039739 ,\n",
              "         0.06154291, -0.6415315 , -0.33119985, -0.7463157 , -1.0136424 ,\n",
              "        -0.3549541 ,  1.0206946 , -0.11711545,  0.04088916, -0.8476073 ,\n",
              "        -1.2731954 ,  0.7775606 , -0.49178824,  1.0942887 , -0.26612437,\n",
              "         0.31534103, -0.05186249,  0.56495064,  0.8779201 ], dtype=float32),\n",
              " 'LAB': array([-0.14053695,  0.1046054 ,  0.        ,  0.        ,  0.        ,\n",
              "         0.        ,  0.        ,  0.        ,  0.        ,  0.        ,\n",
              "         0.        , -0.10923709,  0.        ,  0.        ,  0.        ,\n",
              "         0.07297158,  0.        ,  0.        ,  0.        ,  0.        ,\n",
              "         0.05760756,  0.        ,  0.        ,  0.        ,  0.        ,\n",
              "         0.05334255,  0.        , -0.08635238,  0.        ,  0.        ,\n",
              "         0.        ,  0.0203922 ,  0.        ,  0.09221665,  0.        ,\n",
              "         0.04004037,  0.        ,  0.        , -0.11969634,  0.        ,\n",
              "         0.        ,  0.        , -0.15654445, -0.02946812,  0.        ,\n",
              "         0.03551586, -0.0292381 , -0.17333487,  0.        ,  0.        ,\n",
              "         0.        ,  0.        ,  0.        ,  0.        ,  0.        ,\n",
              "         0.        ,  0.        ,  0.        ,  0.        ,  0.        ,\n",
              "         0.        ,  0.        ,  0.        ,  0.        ], dtype=float32),\n",
              " 'RGB': array([ -1.9233102 ,  -1.806939  ,   0.92652535,   1.3456751 ,\n",
              "          3.2527783 ,   8.308395  ,  -3.2589824 ,  -3.2079234 ,\n",
              "          3.8618486 ,  -2.6320202 ,  -5.1053934 ,   2.5094311 ,\n",
              "          4.9078536 ,  -5.4451566 ,  -3.666345  ,  -1.6148926 ,\n",
              "          3.2441883 ,   5.7640557 ,   9.224596  ,  -3.9517365 ,\n",
              "          3.43823   ,  -6.0972033 ,  -4.8457556 ,  -4.029808  ,\n",
              "          0.42005402,   1.8714447 ,   5.903481  ,   7.582283  ,\n",
              "          4.285707  ,  -2.0179632 ,   6.4985194 ,  -1.1057795 ,\n",
              "          0.9756662 ,  -8.270973  ,   8.118682  ,   3.446284  ,\n",
              "         -7.301453  ,  -0.27540517,   5.2186456 ,  -7.6568074 ,\n",
              "          6.3307786 ,  -2.014905  ,  -4.479856  ,   4.801308  ,\n",
              "         -0.103125  ,  -2.9076612 ,   3.059804  ,   5.662183  ,\n",
              "          1.911796  ,   3.8323965 ,  12.664107  ,   5.1224046 ,\n",
              "        -13.203639  ,   0.5351382 ,   0.30779594,   6.2430587 ,\n",
              "         -0.4245783 ,   2.9320133 ,  -0.4708305 ,   0.56670696,\n",
              "         -2.5070148 ,  -4.479712  ,  12.633749  , -11.555998  ],\n",
              "       dtype=float32),\n",
              " 'XYZ': array([ 0.        ,  0.        ,  0.        ,  0.        ,  0.        ,\n",
              "         0.        ,  0.        ,  0.        ,  0.        ,  0.        ,\n",
              "         0.        ,  0.        ,  0.        ,  0.        , -0.20816953,\n",
              "         0.        ,  0.        , -0.17421739,  0.        ,  0.        ,\n",
              "         0.        ,  0.04349847,  0.        ,  0.17505759,  0.        ,\n",
              "         0.        ,  0.        ,  0.        ,  0.        , -0.04834275,\n",
              "        -0.05696706,  0.        ,  0.        ,  0.        ,  0.        ,\n",
              "         0.        ,  0.        ,  0.        ,  0.        ,  0.        ,\n",
              "         0.        ,  0.        ,  0.        ,  0.        ,  0.        ,\n",
              "         0.        , -0.03310884, -0.12728697,  0.        ,  0.02738855,\n",
              "         0.        ,  0.        ,  0.        ,  0.        ,  0.        ,\n",
              "         0.        ,  0.        ,  0.        ,  0.        ,  0.        ,\n",
              "         0.10741723,  0.        , -0.05730666,  0.        ], dtype=float32)}"
            ]
          },
          "metadata": {
            "tags": []
          },
          "execution_count": 90
        }
      ]
    },
    {
      "cell_type": "code",
      "metadata": {
        "id": "KX7n-GzDD-mo"
      },
      "source": [
        "with open('/gdrive/MyDrive/ImageRetrieval/representatives3.pickle', 'wb') as handle1:\r\n",
        "    pickle.dump(data, handle1, protocol=pickle.HIGHEST_PROTOCOL)"
      ],
      "execution_count": null,
      "outputs": []
    },
    {
      "cell_type": "code",
      "metadata": {
        "id": "s1cHbEa_FE5E"
      },
      "source": [
        "del data"
      ],
      "execution_count": null,
      "outputs": []
    },
    {
      "cell_type": "markdown",
      "metadata": {
        "id": "Mx7UY1uuNj0A"
      },
      "source": [
        "# use InceptionV3 for summurize input image"
      ]
    },
    {
      "cell_type": "code",
      "metadata": {
        "id": "bqcFGMnHN9Yf"
      },
      "source": [
        "from keras.applications.inception_v3 import InceptionV3\r\n",
        "import numpy as np\r\n",
        "import tensorflow as tf\r\n",
        "from tensorflow.keras.optimizers import RMSprop\r\n",
        "from keras import backend as K\r\n",
        "from tensorflow.keras.utils import plot_model\r\n",
        "from tensorflow.keras.callbacks import ModelCheckpoint\r\n",
        "from keras.preprocessing.image import load_img\r\n",
        "from keras.preprocessing.image import img_to_array\r\n",
        "from tensorflow.keras import Model\r\n",
        "from tensorflow.keras.layers import Dense ,Dropout, Input , Conv2D  ,MaxPooling2D ,AveragePooling2D ,Flatten , Lambda , UpSampling2D ,Conv2DTranspose ,Reshape \r\n",
        "from tensorflow.keras.applications.vgg19 import VGG19\r\n",
        "from tensorflow.keras.preprocessing import image_dataset_from_directory\r\n",
        "from tensorflow.keras.preprocessing.image import ImageDataGenerator\r\n",
        "from tensorflow.keras.callbacks import EarlyStopping , ModelCheckpoint , ReduceLROnPlateau\r\n",
        "from tensorflow.keras.losses import mean_absolute_error\r\n",
        "from random import shuffle\r\n",
        "from keras.models import load_model\r\n",
        "import glob\r\n",
        "\r\n",
        "\r\n",
        "inception = InceptionV3(weights='imagenet', include_top=False, input_shape=(256,256,3))\r\n",
        "inception.trainable = False\r\n",
        "base_out = inception.output\r\n",
        "top_fc1 = Flatten()(base_out)\r\n",
        "top_fc2 = Dropout(0.5)(top_fc1)\r\n",
        "encoder_output = Dense(256, activation=\"relu\")(top_fc2)\r\n",
        "Encoder = Model(inputs= [inception.input], outputs=[encoder_output],name = 'Encoder')\r\n",
        "\r\n",
        "\r\n",
        "input_shape = 256\r\n",
        "input_decoder = Input(input_shape,name = 'decoder_input')\r\n",
        "decoder = Reshape((1, 1, 256),name = 'decoder_layer1')(input_decoder)\r\n",
        "decoder = Conv2DTranspose(32, (3,3), activation='relu' , name = 'decoder_layer2')(decoder)\r\n",
        "decoder = UpSampling2D(16,name = 'decoder_layer3')(decoder)\r\n",
        "decoder = Conv2DTranspose(32, (3,3), activation='relu' , name = 'decoder_layer4')(decoder)\r\n",
        "decoder = UpSampling2D(8,name = 'decoder_layer5')(decoder)\r\n",
        "decoder = Conv2DTranspose(32, (3,3), activation='relu' , name = 'decoder_layer6')(decoder)\r\n",
        "decoder = UpSampling2D(2,name = 'decoder_layer7')(decoder)\r\n",
        "decoder = Conv2DTranspose(32, (3,3), activation='relu' , name = 'decoder_layer8')(decoder)\r\n",
        "decoder = AveragePooling2D((3,3), name = 'decoder_layer9')(decoder)\r\n",
        "output_decoder = Conv2D(3,(13,13), name = 'decoder_layer10' , activation= 'relu')(decoder)\r\n",
        "\r\n",
        "Decoder = Model(inputs= [input_decoder], outputs=[output_decoder],name = 'Decoder')\r\n",
        "\r\n",
        "# VAE Model\r\n",
        "AE_input = Input((256,256,3),name = 'AE_input')\r\n",
        "AE_latent = Encoder(AE_input)\r\n",
        "AE_output = Decoder(AE_latent)\r\n",
        "AE = Model(inputs= [AE_input], outputs=[AE_output],name = 'AE')"
      ],
      "execution_count": null,
      "outputs": []
    },
    {
      "cell_type": "code",
      "metadata": {
        "id": "86xBeervSDG4"
      },
      "source": [
        "rmsprop = RMSprop(learning_rate=0.00025 , momentum=0.99)\r\n",
        "AE.compile(loss= 'mse', optimizer= rmsprop)\r\n",
        "\r\n",
        "es = EarlyStopping(monitor=\"val_loss\",\r\n",
        "                   patience=10)\r\n",
        "\r\n",
        "cp_callback = ModelCheckpoint(filepath='/gdrive/MyDrive/ImageRetrieval/Models/Best_inception256_AE.h5',\r\n",
        "                              monitor='val_loss',\r\n",
        "                              save_weights_only=True,\r\n",
        "                              save_best_only=True,\r\n",
        "                              verbose=1)"
      ],
      "execution_count": null,
      "outputs": []
    },
    {
      "cell_type": "code",
      "metadata": {
        "colab": {
          "base_uri": "https://localhost:8080/"
        },
        "id": "EjCXDhucSPQK",
        "outputId": "0f813894-84ac-429f-b5b6-8cd48a96978f"
      },
      "source": [
        "paths = glob.glob('/gdrive/MyDrive/ImageRetrieval/animal_database/*/*/*.jpg',recursive = True)\r\n",
        "shuffle(paths)\r\n",
        "len(paths)"
      ],
      "execution_count": null,
      "outputs": [
        {
          "output_type": "execute_result",
          "data": {
            "text/plain": [
              "1740"
            ]
          },
          "metadata": {
            "tags": []
          },
          "execution_count": 95
        }
      ]
    },
    {
      "cell_type": "code",
      "metadata": {
        "id": "n3pspa8JSXKG"
      },
      "source": [
        "images = []\r\n",
        "for path in paths :\r\n",
        "    img = load_img(path)\r\n",
        "    img = img_to_array(img)\r\n",
        "    img = img.astype(np.float32)\r\n",
        "    img = img/255.0\r\n",
        "    images.append(img)\r\n",
        "images = np.asarray(images)"
      ],
      "execution_count": null,
      "outputs": []
    },
    {
      "cell_type": "code",
      "metadata": {
        "colab": {
          "base_uri": "https://localhost:8080/"
        },
        "id": "kq1hWlO-UQWn",
        "outputId": "ce6fc746-275c-4a9f-b5ce-b94729422c7a"
      },
      "source": [
        "AE.fit(x=images,y=images,\r\n",
        "    epochs=100,\r\n",
        "    verbose = 1,\r\n",
        "    batch_size = 16,\r\n",
        "    validation_split = 0.2,\r\n",
        "    callbacks = [es,cp_callback])"
      ],
      "execution_count": null,
      "outputs": [
        {
          "output_type": "stream",
          "text": [
            "Epoch 1/100\n",
            "87/87 [==============================] - 37s 384ms/step - loss: 0.3766 - val_loss: 0.2313\n",
            "\n",
            "Epoch 00001: val_loss improved from inf to 0.23126, saving model to /gdrive/MyDrive/ImageRetrieval/Models/Best_inception256_AE.h5\n",
            "Epoch 2/100\n",
            "87/87 [==============================] - 32s 373ms/step - loss: 0.2326 - val_loss: 0.2313\n",
            "\n",
            "Epoch 00002: val_loss did not improve from 0.23126\n",
            "Epoch 3/100\n",
            "87/87 [==============================] - 32s 373ms/step - loss: 0.2294 - val_loss: 0.2313\n",
            "\n",
            "Epoch 00003: val_loss did not improve from 0.23126\n",
            "Epoch 4/100\n",
            "87/87 [==============================] - 32s 372ms/step - loss: 0.2309 - val_loss: 0.2313\n",
            "\n",
            "Epoch 00004: val_loss did not improve from 0.23126\n",
            "Epoch 5/100\n",
            "87/87 [==============================] - 32s 373ms/step - loss: 0.2311 - val_loss: 0.2313\n",
            "\n",
            "Epoch 00005: val_loss did not improve from 0.23126\n",
            "Epoch 6/100\n",
            "87/87 [==============================] - 32s 373ms/step - loss: 0.2324 - val_loss: 0.2313\n",
            "\n",
            "Epoch 00006: val_loss did not improve from 0.23126\n",
            "Epoch 7/100\n",
            "87/87 [==============================] - 32s 372ms/step - loss: 0.2306 - val_loss: 0.2313\n",
            "\n",
            "Epoch 00007: val_loss did not improve from 0.23126\n",
            "Epoch 8/100\n",
            "87/87 [==============================] - 32s 372ms/step - loss: 0.2326 - val_loss: 0.2313\n",
            "\n",
            "Epoch 00008: val_loss did not improve from 0.23126\n",
            "Epoch 9/100\n",
            "87/87 [==============================] - 32s 373ms/step - loss: 0.2309 - val_loss: 0.2313\n",
            "\n",
            "Epoch 00009: val_loss did not improve from 0.23126\n",
            "Epoch 10/100\n",
            "87/87 [==============================] - 32s 373ms/step - loss: 0.2323 - val_loss: 0.2313\n",
            "\n",
            "Epoch 00010: val_loss did not improve from 0.23126\n",
            "Epoch 11/100\n",
            "87/87 [==============================] - 32s 373ms/step - loss: 0.2304 - val_loss: 0.2313\n",
            "\n",
            "Epoch 00011: val_loss did not improve from 0.23126\n"
          ],
          "name": "stdout"
        },
        {
          "output_type": "execute_result",
          "data": {
            "text/plain": [
              "<tensorflow.python.keras.callbacks.History at 0x7f803dd4c780>"
            ]
          },
          "metadata": {
            "tags": []
          },
          "execution_count": 97
        }
      ]
    },
    {
      "cell_type": "code",
      "metadata": {
        "id": "U2JYCfFXSXNH"
      },
      "source": [
        "AE.save_weights('/gdrive/MyDrive/ImageRetrieval/Models/inception256_AE_weights.h5')\r\n",
        "Encoder.save_weights('/gdrive/MyDrive/ImageRetrieval/Models/inception256_Encoder_weights.h5')"
      ],
      "execution_count": null,
      "outputs": []
    },
    {
      "cell_type": "code",
      "metadata": {
        "id": "lMA41NTYSXPo"
      },
      "source": [
        "Encoder.load_weights('/gdrive/MyDrive/ImageRetrieval/Models/inception256_Encoder_weights.h5')"
      ],
      "execution_count": null,
      "outputs": []
    },
    {
      "cell_type": "code",
      "metadata": {
        "id": "z5KJU7xmSXSY"
      },
      "source": [
        "import pickle\r\n",
        "handle = open('/gdrive/MyDrive/ImageRetrieval/features3.pickle', 'rb')\r\n",
        "data = pickle.load(handle)\r\n",
        "ids = list(data.keys())\r\n",
        "for id in ids:\r\n",
        "    c = id.split('-')[0]\r\n",
        "    name = id.split('-')[1]\r\n",
        "\r\n",
        "    path = '/gdrive/MyDrive/ImageRetrieval/animal_database/{}/original/{}.jpg'.format(c,name)\r\n",
        "    img = load_img(path)\r\n",
        "    img = img_to_array(img)\r\n",
        "    img = img.astype(np.float32).reshape(1,256,256,3)\r\n",
        "    latent = Encoder(img).numpy().reshape(256)\r\n",
        "    latent = np.nan_to_num(latent, nan=0)\r\n",
        "    data[id].update({'inception_features':latent})"
      ],
      "execution_count": null,
      "outputs": []
    },
    {
      "cell_type": "code",
      "metadata": {
        "id": "kpVzHAAHWecz"
      },
      "source": [
        "with open('/gdrive/MyDrive/ImageRetrieval/features4.pickle', 'wb') as handle1:\r\n",
        "    pickle.dump(data, handle1, protocol=pickle.HIGHEST_PROTOCOL)"
      ],
      "execution_count": null,
      "outputs": []
    },
    {
      "cell_type": "code",
      "metadata": {
        "id": "9HNz8vhNXnhr"
      },
      "source": [
        "handle = open('/gdrive/MyDrive/ImageRetrieval/representatives3.pickle', 'rb')\r\n",
        "data = pickle.load(handle)\r\n",
        "ids = list(data.keys())\r\n",
        "\r\n",
        "for id in ids:\r\n",
        "    paths = glob.glob('/gdrive/MyDrive/ImageRetrieval/animal_database/{}/original/*.jpg'.format(c))\r\n",
        "    sum = np.zeros(256,dtype=np.float32)\r\n",
        "    for path in paths:\r\n",
        "        img = load_img(path)\r\n",
        "        img = img_to_array(img)\r\n",
        "        img = img.astype(np.float32).reshape(1,256,256,3)\r\n",
        "        latent = Encoder(img).numpy().reshape(256)\r\n",
        "        latent = np.nan_to_num(latent, nan=0)\r\n",
        "        sum = sum + latent\r\n",
        "    sum = (sum / len(paths))\r\n",
        "    data[id].update({'inception':sum})"
      ],
      "execution_count": null,
      "outputs": []
    },
    {
      "cell_type": "code",
      "metadata": {
        "id": "LuHMIGLZkQ3l"
      },
      "source": [
        "with open('/gdrive/MyDrive/ImageRetrieval/representatives4.pickle', 'wb') as handle1:\r\n",
        "    pickle.dump(data, handle1, protocol=pickle.HIGHEST_PROTOCOL)"
      ],
      "execution_count": null,
      "outputs": []
    },
    {
      "cell_type": "markdown",
      "metadata": {
        "id": "5ABdL4QD_WUY"
      },
      "source": [
        "# TEXTURE"
      ]
    },
    {
      "cell_type": "code",
      "metadata": {
        "id": "tqnD-J-j_Vwj"
      },
      "source": [
        "from skimage.feature.texture import greycomatrix\r\n",
        "from skimage.feature.texture import greycoprops\r\n",
        "import glob\r\n",
        "from random import shuffle\r\n",
        "from keras.preprocessing.image import load_img\r\n",
        "from keras.preprocessing.image import img_to_array\r\n",
        "import pickle\r\n",
        "import numpy as np\r\n",
        "from skimage.color import rgb2gray"
      ],
      "execution_count": 77,
      "outputs": []
    },
    {
      "cell_type": "code",
      "metadata": {
        "colab": {
          "base_uri": "https://localhost:8080/"
        },
        "id": "JCokc1Pm_kfR",
        "outputId": "f42cfcee-6173-4f87-b6cf-9295f3e7fcf7"
      },
      "source": [
        "paths = glob.glob('/gdrive/MyDrive/ImageRetrieval/animal_database/*/*/*.jpg',recursive = True)\r\n",
        "shuffle(paths)\r\n",
        "len(paths)"
      ],
      "execution_count": 78,
      "outputs": [
        {
          "output_type": "execute_result",
          "data": {
            "text/plain": [
              "1740"
            ]
          },
          "metadata": {
            "tags": []
          },
          "execution_count": 78
        }
      ]
    },
    {
      "cell_type": "code",
      "metadata": {
        "id": "2fS00k6RCH3p"
      },
      "source": [
        "handle = open('/gdrive/MyDrive/ImageRetrieval/features4.pickle', 'rb')\r\n",
        "data = pickle.load(handle)\r\n",
        "ids = list(data.keys())\r\n",
        "for id in ids:\r\n",
        "    c = id.split('-')[0]\r\n",
        "    name = id.split('-')[1]\r\n",
        "\r\n",
        "    path = '/gdrive/MyDrive/ImageRetrieval/animal_database/{}/original/{}.jpg'.format(c,name)\r\n",
        "\r\n",
        "    img = load_img(path)\r\n",
        "    img = img_to_array(img)\r\n",
        "    img = img.astype(np.uint8)\r\n",
        "    img = rgb2gray(img)\r\n",
        "    img = img.astype(np.uint8)\r\n",
        "    \r\n",
        "    distance = [1,2,3]\r\n",
        "    angles = [0,np.pi/2,np.pi,3*np.pi/2,2*np.pi]\r\n",
        "    levels = [4,16,64,256]\r\n",
        "    setups =  [(d, a , l) for d in distance for a in angles for l in levels] \r\n",
        "\r\n",
        "    contrast_list = []\r\n",
        "    dis_list = []\r\n",
        "    homogeneity_list = []\r\n",
        "    energy_list = []\r\n",
        "    correlation_list = []\r\n",
        "\r\n",
        "    for setup in setups:\r\n",
        "        glcm = greycomatrix(img, [setup[0]], [setup[1]],levels = setup[2] , normed=True, symmetric=True)\r\n",
        "        contrast = greycoprops(glcm, 'contrast').reshape(1)\r\n",
        "        contrast_list.append(contrast)\r\n",
        "        dissimilarity = greycoprops(glcm, 'dissimilarity').reshape(1)\r\n",
        "        dis_list.append(dissimilarity)\r\n",
        "        homogeneity = greycoprops(glcm, 'homogeneity').reshape(1)\r\n",
        "        homogeneity_list.append(homogeneity)\r\n",
        "        energy = greycoprops(glcm, 'energy').reshape(1)\r\n",
        "        energy_list.append(energy)\r\n",
        "        correlation = greycoprops(glcm, 'correlation').reshape(1)\r\n",
        "        correlation_list.append(correlation)\r\n",
        "\r\n",
        "    contrast_list = np.array(contrast_list).reshape(60)\r\n",
        "    dis_list = np.array(dis_list).reshape(60)\r\n",
        "    homogeneity_list = np.array(homogeneity_list).reshape(60)\r\n",
        "    energy_list = np.array(energy_list).reshape(60)\r\n",
        "    correlation_list = np.array(correlation_list).reshape(60)\r\n",
        "\r\n",
        "    data[id].update({'contrast' : contrast_list , 'dissimilarity': dis_list , \r\n",
        "                     \"homogeneity\" : homogeneity_list,'energy':energy_list ,\r\n",
        "                     \"correlation\":correlation_list })"
      ],
      "execution_count": 79,
      "outputs": []
    },
    {
      "cell_type": "code",
      "metadata": {
        "colab": {
          "base_uri": "https://localhost:8080/"
        },
        "id": "1_VfMCIuHuHO",
        "outputId": "1eb378dc-477d-4952-df29-a47321d0e833"
      },
      "source": [
        "data[list(data.keys())[0]]"
      ],
      "execution_count": 80,
      "outputs": [
        {
          "output_type": "execute_result",
          "data": {
            "text/plain": [
              "{'Class': 'bear',\n",
              " 'HSI_features': array([-0.17812833,  0.37212777, -1.1310701 ,  0.33537936,  0.5802564 ,\n",
              "        -0.14642787, -1.2465484 , -0.56308913,  0.71313286,  0.59898704,\n",
              "         0.07730849, -0.6907383 , -0.2860031 ,  0.674686  ,  0.01197079,\n",
              "         0.48183447,  0.82546324, -2.9972262 , -1.1228862 , -0.02145733,\n",
              "         0.19926941,  0.5444888 ,  0.23012805,  0.21430653,  0.59568876,\n",
              "        -2.196142  , -0.16197817, -1.7032446 , -0.793215  ,  0.03182127,\n",
              "        -1.0913075 ,  0.23802769,  0.5797869 , -1.4717253 , -0.57061523,\n",
              "        -0.24286401,  0.13980299,  0.05554444, -0.56562996, -1.530935  ,\n",
              "         0.30818215,  0.3417821 , -1.2453251 , -0.70544773,  0.6671905 ,\n",
              "        -0.44202083, -0.38108897, -0.24227177, -0.9428719 , -1.1091394 ,\n",
              "        -0.01852486,  1.4097743 , -1.1120441 ,  0.08142884, -0.97913057,\n",
              "        -1.5550326 , -0.2748984 , -1.6345724 ,  1.157543  ,  0.00596564,\n",
              "        -0.3912971 , -0.33938825,  0.4434489 ,  1.0437015 ], dtype=float32),\n",
              " 'LAB_features': array([-0.04759364, -0.6469684 ,  0.        ,  0.        ,  0.        ,\n",
              "         0.        ,  0.        ,  0.        ,  0.        ,  0.        ,\n",
              "         0.        ,  0.12576327,  0.        ,  0.        ,  0.        ,\n",
              "         0.14032805,  0.        ,  0.        ,  0.        ,  0.        ,\n",
              "        -0.299629  ,  0.        ,  0.        ,  0.        ,  0.        ,\n",
              "        -0.25806412,  0.        ,  0.28330025,  0.        ,  0.        ,\n",
              "         0.        ,  0.9764511 ,  0.        ,  2.2127557 ,  0.        ,\n",
              "         0.3652986 ,  0.        ,  0.        ,  0.6765745 ,  0.        ,\n",
              "         0.        ,  0.        , -1.7495161 , -1.3461597 ,  0.        ,\n",
              "        -0.6388154 , -1.1981881 , -0.21742499,  0.        ,  0.        ,\n",
              "         0.        ,  0.        ,  0.        ,  0.        ,  0.        ,\n",
              "         0.        ,  0.        ,  0.        ,  0.        ,  0.        ,\n",
              "         0.        ,  0.        ,  0.        ,  0.        ], dtype=float32),\n",
              " 'RGB_features': array([ -1.9234445 ,  -1.8095958 ,   0.96749943,   1.3460538 ,\n",
              "          3.269796  ,   8.092548  ,  -3.268188  ,  -3.207434  ,\n",
              "          3.863232  ,  -2.6285877 ,  -5.094462  ,   2.5095317 ,\n",
              "          4.909684  ,  -5.4401436 ,  -3.6603665 ,  -1.5537701 ,\n",
              "          3.2287621 ,   5.7624564 ,   9.223061  ,  -3.945549  ,\n",
              "          3.4392354 ,  -6.0773773 ,  -4.845225  ,  -4.02974   ,\n",
              "          0.42029238,   1.8787851 ,   5.914448  ,   7.5905175 ,\n",
              "          4.283615  ,  -2.0668159 ,   6.501185  ,  -1.1049765 ,\n",
              "          0.9861054 ,  -8.29251   ,   7.56122   ,   3.451056  ,\n",
              "         -7.3014283 ,  -0.27757758,   5.2176256 ,  -7.6618814 ,\n",
              "          6.3227715 ,  -2.0145023 ,  -4.470111  ,   4.850108  ,\n",
              "         -0.1127351 ,  -2.9018073 ,   3.0576196 ,   5.6622186 ,\n",
              "          1.906201  ,   3.8326595 ,  12.664784  ,   5.170316  ,\n",
              "        -13.236137  ,   0.59512854,   0.30964   ,   6.2589965 ,\n",
              "         -0.43803185,   2.9754908 ,  -0.50538325,   0.6115794 ,\n",
              "         -2.5079584 ,  -4.480353  ,  12.626804  , -11.558441  ],\n",
              "       dtype=float32),\n",
              " 'XYZ_features': array([ 0.        ,  0.        ,  0.        ,  0.        ,  0.        ,\n",
              "         0.        ,  0.        ,  0.        ,  0.        ,  0.        ,\n",
              "         0.        ,  0.        ,  0.        ,  0.        , -1.0771899 ,\n",
              "         0.        ,  0.        , -0.20243442,  0.        ,  0.        ,\n",
              "         0.        ,  0.24737006,  0.        , -0.51772743,  0.        ,\n",
              "         0.        ,  0.        ,  0.        ,  0.        ,  0.604255  ,\n",
              "        -0.22234996,  0.        ,  0.        ,  0.        ,  0.        ,\n",
              "         0.        ,  0.        ,  0.        ,  0.        ,  0.        ,\n",
              "         0.        ,  0.        ,  0.        ,  0.        ,  0.        ,\n",
              "         0.        ,  0.28816321,  0.92333454,  0.        ,  2.839309  ,\n",
              "         0.        ,  0.        ,  0.        ,  0.        ,  0.        ,\n",
              "         0.        ,  0.        ,  0.        ,  0.        ,  0.        ,\n",
              "         0.0189472 ,  0.        , -1.5692774 ,  0.        ], dtype=float32),\n",
              " 'contrast': array([0., 0., 0., 0., 0., 0., 0., 0., 0., 0., 0., 0., 0., 0., 0., 0., 0.,\n",
              "        0., 0., 0., 0., 0., 0., 0., 0., 0., 0., 0., 0., 0., 0., 0., 0., 0.,\n",
              "        0., 0., 0., 0., 0., 0., 0., 0., 0., 0., 0., 0., 0., 0., 0., 0., 0.,\n",
              "        0., 0., 0., 0., 0., 0., 0., 0., 0.]),\n",
              " 'correlation': array([1., 1., 1., 1., 1., 1., 1., 1., 1., 1., 1., 1., 1., 1., 1., 1., 1.,\n",
              "        1., 1., 1., 1., 1., 1., 1., 1., 1., 1., 1., 1., 1., 1., 1., 1., 1.,\n",
              "        1., 1., 1., 1., 1., 1., 1., 1., 1., 1., 1., 1., 1., 1., 1., 1., 1.,\n",
              "        1., 1., 1., 1., 1., 1., 1., 1., 1.]),\n",
              " 'dissimilarity': array([0., 0., 0., 0., 0., 0., 0., 0., 0., 0., 0., 0., 0., 0., 0., 0., 0.,\n",
              "        0., 0., 0., 0., 0., 0., 0., 0., 0., 0., 0., 0., 0., 0., 0., 0., 0.,\n",
              "        0., 0., 0., 0., 0., 0., 0., 0., 0., 0., 0., 0., 0., 0., 0., 0., 0.,\n",
              "        0., 0., 0., 0., 0., 0., 0., 0., 0.]),\n",
              " 'energy': array([1., 1., 1., 1., 1., 1., 1., 1., 1., 1., 1., 1., 1., 1., 1., 1., 1.,\n",
              "        1., 1., 1., 1., 1., 1., 1., 1., 1., 1., 1., 1., 1., 1., 1., 1., 1.,\n",
              "        1., 1., 1., 1., 1., 1., 1., 1., 1., 1., 1., 1., 1., 1., 1., 1., 1.,\n",
              "        1., 1., 1., 1., 1., 1., 1., 1., 1.]),\n",
              " 'homogeneity': array([1., 1., 1., 1., 1., 1., 1., 1., 1., 1., 1., 1., 1., 1., 1., 1., 1.,\n",
              "        1., 1., 1., 1., 1., 1., 1., 1., 1., 1., 1., 1., 1., 1., 1., 1., 1.,\n",
              "        1., 1., 1., 1., 1., 1., 1., 1., 1., 1., 1., 1., 1., 1., 1., 1., 1.,\n",
              "        1., 1., 1., 1., 1., 1., 1., 1., 1.]),\n",
              " 'inception_features': array([    0.     ,     0.     , 20060.94   ,     0.     ,     0.     ,\n",
              "            0.     ,     0.     ,     0.     ,     0.     ,  4051.4072 ,\n",
              "            0.     ,     0.     ,     0.     ,     0.     ,     0.     ,\n",
              "            0.     ,     0.     ,     0.     ,     0.     ,     0.     ,\n",
              "            0.     ,     0.     ,     0.     ,     0.     ,     0.     ,\n",
              "            0.     ,     0.     ,     0.     ,     0.     ,     0.     ,\n",
              "            0.     ,     0.     ,     0.     , 11506.53   ,     0.     ,\n",
              "            0.     ,     0.     ,     0.     ,  9126.158  , 24401.066  ,\n",
              "        20584.967  ,     0.     ,  9172.694  ,     0.     ,     0.     ,\n",
              "            0.     ,     0.     ,     0.     ,  8120.5825 ,     0.     ,\n",
              "        15391.909  ,     0.     , 12874.082  ,     0.     ,  4232.053  ,\n",
              "            0.     ,     0.     ,     0.     ,     0.     ,     0.     ,\n",
              "        19938.475  ,     0.     ,     0.     ,     0.     ,     0.     ,\n",
              "            0.     ,  3783.8843 ,     0.     ,     0.     ,     0.     ,\n",
              "            0.     ,     0.     ,     0.     ,     0.     ,     0.     ,\n",
              "            0.     ,     0.     ,     0.     ,     0.     ,     0.     ,\n",
              "            0.     ,     0.     ,     0.     ,     0.     ,     0.     ,\n",
              "            0.     ,     0.     ,     0.     ,  5641.3037 ,     0.     ,\n",
              "            0.     ,     0.     ,     0.     ,     0.     ,     0.     ,\n",
              "            0.     ,     0.     ,     0.     ,     0.     ,     0.     ,\n",
              "         5050.3374 ,     0.     ,     0.     ,     0.     ,     0.     ,\n",
              "            0.     ,     0.     ,     0.     ,     0.     ,     0.     ,\n",
              "            0.     ,     0.     ,  9505.694  ,     0.     ,     0.     ,\n",
              "            0.     ,     0.     ,     0.     , 12262.6    ,     0.     ,\n",
              "            0.     ,     0.     ,     0.     ,     0.     ,     0.     ,\n",
              "            0.     ,     0.     ,   314.02243, 11454.462  ,  2455.8774 ,\n",
              "         8352.25   ,     0.     , 21707.707  ,     0.     ,  4159.7773 ,\n",
              "        15681.784  ,     0.     ,     0.     ,     0.     ,     0.     ,\n",
              "            0.     , 27045.018  ,     0.     ,     0.     ,     0.     ,\n",
              "            0.     ,     0.     ,     0.     ,     0.     , 23374.508  ,\n",
              "            0.     ,     0.     ,     0.     ,     0.     ,     0.     ,\n",
              "            0.     , 26592.146  ,     0.     ,  2269.6567 ,     0.     ,\n",
              "            0.     ,     0.     ,     0.     ,     0.     ,     0.     ,\n",
              "        14198.663  ,     0.     ,     0.     ,  7093.251  ,     0.     ,\n",
              "            0.     ,     0.     ,     0.     ,     0.     ,     0.     ,\n",
              "            0.     ,     0.     ,     0.     ,     0.     ,     0.     ,\n",
              "            0.     ,     0.     ,     0.     ,     0.     ,     0.     ,\n",
              "            0.     ,     0.     ,     0.     , 10528.548  ,     0.     ,\n",
              "        16320.758  ,     0.     , 14052.715  ,     0.     ,     0.     ,\n",
              "            0.     ,     0.     ,     0.     ,     0.     ,     0.     ,\n",
              "          867.9169 ,     0.     ,     0.     ,  8741.972  ,     0.     ,\n",
              "        28576.291  , 13923.785  ,     0.     ,     0.     ,     0.     ,\n",
              "        17126.064  ,     0.     ,     0.     ,     0.     ,     0.     ,\n",
              "            0.     ,     0.     ,     0.     ,     0.     ,     0.     ,\n",
              "         6309.2334 ,     0.     , 11004.332  ,     0.     ,     0.     ,\n",
              "            0.     ,     0.     ,     0.     ,     0.     , 15301.137  ,\n",
              "            0.     ,     0.     ,     0.     ,     0.     , 16019.062  ,\n",
              "            0.     ,     0.     ,     0.     ,     0.     ,     0.     ,\n",
              "            0.     ,     0.     , 24856.047  ,     0.     ,     0.     ,\n",
              "            0.     ,     0.     ,     0.     ,     0.     ,  5522.0615 ,\n",
              "            0.     , 10749.733  ,     0.     ,     0.     ,     0.     ,\n",
              "        18605.61   ], dtype=float32)}"
            ]
          },
          "metadata": {
            "tags": []
          },
          "execution_count": 80
        }
      ]
    },
    {
      "cell_type": "code",
      "metadata": {
        "id": "z3zULe37Hllm"
      },
      "source": [
        "with open('/gdrive/MyDrive/ImageRetrieval/features5.pickle', 'wb') as handle1:\r\n",
        "    pickle.dump(data, handle1, protocol=pickle.HIGHEST_PROTOCOL)"
      ],
      "execution_count": 81,
      "outputs": []
    },
    {
      "cell_type": "code",
      "metadata": {
        "id": "AYcZYaKtIt-H"
      },
      "source": [
        "handle = open('/gdrive/MyDrive/ImageRetrieval/representatives4.pickle', 'rb')\r\n",
        "data = pickle.load(handle)\r\n",
        "ids = list(data.keys())\r\n",
        "\r\n",
        "sum_con = [0] * 60\r\n",
        "sum_dis = [0] * 60\r\n",
        "sum_cor = [0] * 60\r\n",
        "sum_enr = [0] * 60\r\n",
        "sum_hem = [0] * 60\r\n",
        "\r\n",
        "distance = [1,2,3]\r\n",
        "angles = [0,np.pi/2,np.pi,3*np.pi/2,2*np.pi]\r\n",
        "levels = [4,16,64,256]\r\n",
        "setups =  [(d, a , l) for d in distance for a in angles for l in levels] \r\n",
        "\r\n",
        "for id in ids:\r\n",
        "    paths = glob.glob('/gdrive/MyDrive/ImageRetrieval/animal_database/{}/original/*.jpg'.format(c))\r\n",
        "    for path in paths:\r\n",
        "\r\n",
        "        img = load_img(path)\r\n",
        "        img = img_to_array(img)\r\n",
        "        img = img.astype(np.uint8)\r\n",
        "        img = rgb2gray(img)\r\n",
        "        img = img.astype(np.uint8)\r\n",
        "\r\n",
        "        for index ,setup in enumerate(setups):\r\n",
        "            glcm = greycomatrix(img, [setup[0]], [setup[1]],levels = setup[2] , normed=True, symmetric=True)\r\n",
        "\r\n",
        "            contrast = greycoprops(glcm, 'contrast').reshape(1)\r\n",
        "            dissimilarity = greycoprops(glcm, 'dissimilarity').reshape(1)\r\n",
        "            homogeneity = greycoprops(glcm, 'homogeneity').reshape(1)\r\n",
        "            energy = greycoprops(glcm, 'energy').reshape(1)\r\n",
        "            correlation = greycoprops(glcm, 'correlation').reshape(1)\r\n",
        "\r\n",
        "            sum_con[index] = sum_con[index] + contrast\r\n",
        "            sum_dis[index] = sum_dis[index] + dissimilarity\r\n",
        "            sum_hem[index] = sum_hem[index] + homogeneity\r\n",
        "            sum_enr[index] = sum_enr[index] + energy\r\n",
        "            sum_cor[index] = sum_cor[index] + correlation\r\n",
        "\r\n",
        "    sum_con = np.array(sum_con).reshape(60)\r\n",
        "    sum_con = sum_con/len(paths)\r\n",
        "\r\n",
        "    sum_dis = np.array(sum_dis).reshape(60)\r\n",
        "    sum_dis = sum_dis/len(paths)\r\n",
        "\r\n",
        "    sum_hem = np.array(sum_hem).reshape(60)\r\n",
        "    sum_hem = sum_hem/len(paths)\r\n",
        "\r\n",
        "    sum_enr = np.array(sum_enr).reshape(60)\r\n",
        "    sum_enr = sum_enr/len(paths)\r\n",
        "\r\n",
        "    sum_cor = np.array(sum_cor).reshape(60)\r\n",
        "    sum_cor = sum_cor/len(paths)\r\n",
        "\r\n",
        "    data[id].update({'contrast':sum_con , 'dissimilarity' : sum_dis,\r\n",
        "                     'homogeneity':sum_hem ,'energy':sum_enr ,\r\n",
        "                     'correlation' : sum_cor})"
      ],
      "execution_count": 82,
      "outputs": []
    },
    {
      "cell_type": "code",
      "metadata": {
        "id": "idOI6uhtODUi",
        "outputId": "355b62a9-f8c6-4fda-a012-2420212d29fc",
        "colab": {
          "base_uri": "https://localhost:8080/"
        }
      },
      "source": [
        "data['lion']"
      ],
      "execution_count": 83,
      "outputs": [
        {
          "output_type": "execute_result",
          "data": {
            "text/plain": [
              "{'HSI': array([ 0.1492762 ,  0.2633912 ,  0.46199462, -0.10007707,  0.4680749 ,\n",
              "         1.13425   , -0.5266292 ,  0.5943809 ,  0.25622612,  0.4648542 ,\n",
              "         0.22927715, -1.2788681 , -0.62736756,  0.0398203 , -0.13232906,\n",
              "         0.25461307,  0.13292469, -1.887102  ,  0.537627  , -0.06311138,\n",
              "         0.3393129 , -0.10818697, -0.30131742,  0.40037513,  0.50632536,\n",
              "        -1.9639274 ,  0.04382346, -1.2270705 , -0.7308    , -0.09887905,\n",
              "        -1.0610863 ,  0.75797755, -0.45577022, -1.472138  , -0.25489902,\n",
              "        -0.9682249 , -0.36585784,  0.34378314,  0.12613672, -0.85120344,\n",
              "        -0.21466185,  0.6654489 , -1.309146  , -0.26215178,  1.2039739 ,\n",
              "         0.06154291, -0.6415315 , -0.33119985, -0.7463157 , -1.0136424 ,\n",
              "        -0.3549541 ,  1.0206946 , -0.11711545,  0.04088916, -0.8476073 ,\n",
              "        -1.2731954 ,  0.7775606 , -0.49178824,  1.0942887 , -0.26612437,\n",
              "         0.31534103, -0.05186249,  0.56495064,  0.8779201 ], dtype=float32),\n",
              " 'LAB': array([-0.14053695,  0.1046054 ,  0.        ,  0.        ,  0.        ,\n",
              "         0.        ,  0.        ,  0.        ,  0.        ,  0.        ,\n",
              "         0.        , -0.10923709,  0.        ,  0.        ,  0.        ,\n",
              "         0.07297158,  0.        ,  0.        ,  0.        ,  0.        ,\n",
              "         0.05760756,  0.        ,  0.        ,  0.        ,  0.        ,\n",
              "         0.05334255,  0.        , -0.08635238,  0.        ,  0.        ,\n",
              "         0.        ,  0.0203922 ,  0.        ,  0.09221665,  0.        ,\n",
              "         0.04004037,  0.        ,  0.        , -0.11969634,  0.        ,\n",
              "         0.        ,  0.        , -0.15654445, -0.02946812,  0.        ,\n",
              "         0.03551586, -0.0292381 , -0.17333487,  0.        ,  0.        ,\n",
              "         0.        ,  0.        ,  0.        ,  0.        ,  0.        ,\n",
              "         0.        ,  0.        ,  0.        ,  0.        ,  0.        ,\n",
              "         0.        ,  0.        ,  0.        ,  0.        ], dtype=float32),\n",
              " 'RGB': array([ -1.9233102 ,  -1.806939  ,   0.92652535,   1.3456751 ,\n",
              "          3.2527783 ,   8.308395  ,  -3.2589824 ,  -3.2079234 ,\n",
              "          3.8618486 ,  -2.6320202 ,  -5.1053934 ,   2.5094311 ,\n",
              "          4.9078536 ,  -5.4451566 ,  -3.666345  ,  -1.6148926 ,\n",
              "          3.2441883 ,   5.7640557 ,   9.224596  ,  -3.9517365 ,\n",
              "          3.43823   ,  -6.0972033 ,  -4.8457556 ,  -4.029808  ,\n",
              "          0.42005402,   1.8714447 ,   5.903481  ,   7.582283  ,\n",
              "          4.285707  ,  -2.0179632 ,   6.4985194 ,  -1.1057795 ,\n",
              "          0.9756662 ,  -8.270973  ,   8.118682  ,   3.446284  ,\n",
              "         -7.301453  ,  -0.27540517,   5.2186456 ,  -7.6568074 ,\n",
              "          6.3307786 ,  -2.014905  ,  -4.479856  ,   4.801308  ,\n",
              "         -0.103125  ,  -2.9076612 ,   3.059804  ,   5.662183  ,\n",
              "          1.911796  ,   3.8323965 ,  12.664107  ,   5.1224046 ,\n",
              "        -13.203639  ,   0.5351382 ,   0.30779594,   6.2430587 ,\n",
              "         -0.4245783 ,   2.9320133 ,  -0.4708305 ,   0.56670696,\n",
              "         -2.5070148 ,  -4.479712  ,  12.633749  , -11.555998  ],\n",
              "       dtype=float32),\n",
              " 'XYZ': array([ 0.        ,  0.        ,  0.        ,  0.        ,  0.        ,\n",
              "         0.        ,  0.        ,  0.        ,  0.        ,  0.        ,\n",
              "         0.        ,  0.        ,  0.        ,  0.        , -0.20816953,\n",
              "         0.        ,  0.        , -0.17421739,  0.        ,  0.        ,\n",
              "         0.        ,  0.04349847,  0.        ,  0.17505759,  0.        ,\n",
              "         0.        ,  0.        ,  0.        ,  0.        , -0.04834275,\n",
              "        -0.05696706,  0.        ,  0.        ,  0.        ,  0.        ,\n",
              "         0.        ,  0.        ,  0.        ,  0.        ,  0.        ,\n",
              "         0.        ,  0.        ,  0.        ,  0.        ,  0.        ,\n",
              "         0.        , -0.03310884, -0.12728697,  0.        ,  0.02738855,\n",
              "         0.        ,  0.        ,  0.        ,  0.        ,  0.        ,\n",
              "         0.        ,  0.        ,  0.        ,  0.        ,  0.        ,\n",
              "         0.10741723,  0.        , -0.05730666,  0.        ], dtype=float32),\n",
              " 'contrast': array([0.05329633, 0.05329633, 0.05329633, 0.05329633, 0.05056477,\n",
              "        0.05056477, 0.05056477, 0.05056477, 0.05329633, 0.05329633,\n",
              "        0.05329633, 0.05329633, 0.05056477, 0.05056477, 0.05056477,\n",
              "        0.05056477, 0.05329633, 0.05329633, 0.05329633, 0.05329633,\n",
              "        0.0687914 , 0.0687914 , 0.0687914 , 0.0687914 , 0.07000674,\n",
              "        0.07000674, 0.07000674, 0.07000674, 0.0687914 , 0.0687914 ,\n",
              "        0.0687914 , 0.0687914 , 0.07000674, 0.07000674, 0.07000674,\n",
              "        0.07000674, 0.0687914 , 0.0687914 , 0.0687914 , 0.0687914 ,\n",
              "        0.0790591 , 0.0790591 , 0.0790591 , 0.0790591 , 0.07907475,\n",
              "        0.07907475, 0.07907475, 0.07907475, 0.0790591 , 0.0790591 ,\n",
              "        0.0790591 , 0.0790591 , 0.07907475, 0.07907475, 0.07907475,\n",
              "        0.07907475, 0.0790591 , 0.0790591 , 0.0790591 , 0.0790591 ]),\n",
              " 'correlation': array([41.26892205, 41.26892205, 41.26892205, 41.26892205, 40.55060066,\n",
              "        40.55060066, 40.55060066, 40.55060066, 41.26892205, 41.26892205,\n",
              "        41.26892205, 41.26892205, 40.55060066, 40.55060066, 40.55060066,\n",
              "        40.55060066, 41.26892205, 41.26892205, 41.26892205, 41.26892205,\n",
              "        37.90520491, 37.90520491, 37.90520491, 37.90520491, 36.82156819,\n",
              "        36.82156819, 36.82156819, 36.82156819, 37.90520491, 37.90520491,\n",
              "        37.90520491, 37.90520491, 36.82156819, 36.82156819, 36.82156819,\n",
              "        36.82156819, 37.90520491, 37.90520491, 37.90520491, 37.90520491,\n",
              "        36.58618598, 36.58618598, 36.58618598, 36.58618598, 36.31733443,\n",
              "        36.31733443, 36.31733443, 36.31733443, 36.58618598, 36.58618598,\n",
              "        36.58618598, 36.58618598, 36.31733443, 36.31733443, 36.31733443,\n",
              "        36.31733443, 36.58618598, 36.58618598, 36.58618598, 36.58618598]),\n",
              " 'dissimilarity': array([0.05329633, 0.05329633, 0.05329633, 0.05329633, 0.05056477,\n",
              "        0.05056477, 0.05056477, 0.05056477, 0.05329633, 0.05329633,\n",
              "        0.05329633, 0.05329633, 0.05056477, 0.05056477, 0.05056477,\n",
              "        0.05056477, 0.05329633, 0.05329633, 0.05329633, 0.05329633,\n",
              "        0.0687914 , 0.0687914 , 0.0687914 , 0.0687914 , 0.07000674,\n",
              "        0.07000674, 0.07000674, 0.07000674, 0.0687914 , 0.0687914 ,\n",
              "        0.0687914 , 0.0687914 , 0.07000674, 0.07000674, 0.07000674,\n",
              "        0.07000674, 0.0687914 , 0.0687914 , 0.0687914 , 0.0687914 ,\n",
              "        0.0790591 , 0.0790591 , 0.0790591 , 0.0790591 , 0.07907475,\n",
              "        0.07907475, 0.07907475, 0.07907475, 0.0790591 , 0.0790591 ,\n",
              "        0.0790591 , 0.0790591 , 0.07907475, 0.07907475, 0.07907475,\n",
              "        0.07907475, 0.0790591 , 0.0790591 , 0.0790591 , 0.0790591 ]),\n",
              " 'energy': array([77.7649048 , 77.7649048 , 77.7649048 , 77.7649048 , 77.76745753,\n",
              "        77.76745753, 77.76745753, 77.76745753, 77.7649048 , 77.7649048 ,\n",
              "        77.7649048 , 77.7649048 , 77.76745753, 77.76745753, 77.76745753,\n",
              "        77.76745753, 77.7649048 , 77.7649048 , 77.7649048 , 77.7649048 ,\n",
              "        77.75721486, 77.75721486, 77.75721486, 77.75721486, 77.75877391,\n",
              "        77.75877391, 77.75877391, 77.75877391, 77.75721486, 77.75721486,\n",
              "        77.75721486, 77.75721486, 77.75877391, 77.75877391, 77.75877391,\n",
              "        77.75877391, 77.75721486, 77.75721486, 77.75721486, 77.75721486,\n",
              "        77.75223557, 77.75223557, 77.75223557, 77.75223557, 77.75546551,\n",
              "        77.75546551, 77.75546551, 77.75546551, 77.75223557, 77.75223557,\n",
              "        77.75223557, 77.75223557, 77.75546551, 77.75546551, 77.75546551,\n",
              "        77.75546551, 77.75223557, 77.75223557, 77.75223557, 77.75223557]),\n",
              " 'homogeneity': array([77.98650973, 77.98650973, 77.98650973, 77.98650973, 77.98787551,\n",
              "        77.98787551, 77.98787551, 77.98787551, 77.98650973, 77.98650973,\n",
              "        77.98650973, 77.98650973, 77.98787551, 77.98787551, 77.98787551,\n",
              "        77.98787551, 77.98650973, 77.98650973, 77.98650973, 77.98650973,\n",
              "        77.97876219, 77.97876219, 77.97876219, 77.97876219, 77.97815452,\n",
              "        77.97815452, 77.97815452, 77.97815452, 77.97876219, 77.97876219,\n",
              "        77.97876219, 77.97876219, 77.97815452, 77.97815452, 77.97815452,\n",
              "        77.97815452, 77.97876219, 77.97876219, 77.97876219, 77.97876219,\n",
              "        77.97362834, 77.97362834, 77.97362834, 77.97362834, 77.97362052,\n",
              "        77.97362052, 77.97362052, 77.97362052, 77.97362834, 77.97362834,\n",
              "        77.97362834, 77.97362834, 77.97362052, 77.97362052, 77.97362052,\n",
              "        77.97362052, 77.97362834, 77.97362834, 77.97362834, 77.97362834]),\n",
              " 'inception': array([0.0000000e+00, 0.0000000e+00, 2.2047633e+04, 0.0000000e+00,\n",
              "        1.8583326e+00, 0.0000000e+00, 0.0000000e+00, 0.0000000e+00,\n",
              "        0.0000000e+00, 4.4691963e+03, 0.0000000e+00, 0.0000000e+00,\n",
              "        0.0000000e+00, 0.0000000e+00, 0.0000000e+00, 0.0000000e+00,\n",
              "        0.0000000e+00, 0.0000000e+00, 0.0000000e+00, 0.0000000e+00,\n",
              "        0.0000000e+00, 0.0000000e+00, 0.0000000e+00, 0.0000000e+00,\n",
              "        0.0000000e+00, 0.0000000e+00, 0.0000000e+00, 0.0000000e+00,\n",
              "        0.0000000e+00, 0.0000000e+00, 0.0000000e+00, 0.0000000e+00,\n",
              "        0.0000000e+00, 1.2354655e+04, 0.0000000e+00, 0.0000000e+00,\n",
              "        0.0000000e+00, 0.0000000e+00, 1.0582729e+04, 2.5988393e+04,\n",
              "        2.1850666e+04, 0.0000000e+00, 1.0160999e+04, 0.0000000e+00,\n",
              "        0.0000000e+00, 0.0000000e+00, 0.0000000e+00, 0.0000000e+00,\n",
              "        9.3777559e+03, 0.0000000e+00, 1.7148043e+04, 0.0000000e+00,\n",
              "        1.4111363e+04, 0.0000000e+00, 4.7341260e+03, 0.0000000e+00,\n",
              "        0.0000000e+00, 0.0000000e+00, 0.0000000e+00, 0.0000000e+00,\n",
              "        2.1836025e+04, 0.0000000e+00, 0.0000000e+00, 0.0000000e+00,\n",
              "        0.0000000e+00, 0.0000000e+00, 3.9484614e+03, 0.0000000e+00,\n",
              "        0.0000000e+00, 0.0000000e+00, 0.0000000e+00, 0.0000000e+00,\n",
              "        0.0000000e+00, 0.0000000e+00, 0.0000000e+00, 0.0000000e+00,\n",
              "        0.0000000e+00, 0.0000000e+00, 0.0000000e+00, 0.0000000e+00,\n",
              "        0.0000000e+00, 0.0000000e+00, 0.0000000e+00, 0.0000000e+00,\n",
              "        0.0000000e+00, 0.0000000e+00, 0.0000000e+00, 0.0000000e+00,\n",
              "        5.7418760e+03, 0.0000000e+00, 0.0000000e+00, 0.0000000e+00,\n",
              "        0.0000000e+00, 0.0000000e+00, 0.0000000e+00, 0.0000000e+00,\n",
              "        0.0000000e+00, 0.0000000e+00, 0.0000000e+00, 0.0000000e+00,\n",
              "        5.2328750e+03, 0.0000000e+00, 0.0000000e+00, 0.0000000e+00,\n",
              "        0.0000000e+00, 0.0000000e+00, 0.0000000e+00, 0.0000000e+00,\n",
              "        0.0000000e+00, 0.0000000e+00, 0.0000000e+00, 0.0000000e+00,\n",
              "        1.0679180e+04, 0.0000000e+00, 0.0000000e+00, 0.0000000e+00,\n",
              "        0.0000000e+00, 0.0000000e+00, 1.3192312e+04, 0.0000000e+00,\n",
              "        0.0000000e+00, 0.0000000e+00, 0.0000000e+00, 0.0000000e+00,\n",
              "        0.0000000e+00, 0.0000000e+00, 0.0000000e+00, 3.8999557e+02,\n",
              "        1.1769370e+04, 2.7393442e+03, 8.5943682e+03, 0.0000000e+00,\n",
              "        2.3850709e+04, 0.0000000e+00, 4.6247910e+03, 1.6965248e+04,\n",
              "        0.0000000e+00, 0.0000000e+00, 0.0000000e+00, 0.0000000e+00,\n",
              "        0.0000000e+00, 2.9377545e+04, 0.0000000e+00, 0.0000000e+00,\n",
              "        0.0000000e+00, 0.0000000e+00, 0.0000000e+00, 0.0000000e+00,\n",
              "        0.0000000e+00, 2.6256811e+04, 0.0000000e+00, 0.0000000e+00,\n",
              "        0.0000000e+00, 0.0000000e+00, 0.0000000e+00, 0.0000000e+00,\n",
              "        2.9018166e+04, 0.0000000e+00, 2.0795229e+03, 0.0000000e+00,\n",
              "        0.0000000e+00, 0.0000000e+00, 0.0000000e+00, 0.0000000e+00,\n",
              "        0.0000000e+00, 1.5655723e+04, 0.0000000e+00, 0.0000000e+00,\n",
              "        7.2090601e+03, 0.0000000e+00, 0.0000000e+00, 0.0000000e+00,\n",
              "        0.0000000e+00, 0.0000000e+00, 0.0000000e+00, 0.0000000e+00,\n",
              "        0.0000000e+00, 0.0000000e+00, 0.0000000e+00, 0.0000000e+00,\n",
              "        0.0000000e+00, 0.0000000e+00, 0.0000000e+00, 0.0000000e+00,\n",
              "        0.0000000e+00, 0.0000000e+00, 0.0000000e+00, 0.0000000e+00,\n",
              "        1.1713943e+04, 0.0000000e+00, 1.7589148e+04, 0.0000000e+00,\n",
              "        1.4803796e+04, 0.0000000e+00, 1.5598436e-01, 1.1784122e+01,\n",
              "        0.0000000e+00, 0.0000000e+00, 0.0000000e+00, 0.0000000e+00,\n",
              "        1.3568057e+03, 0.0000000e+00, 0.0000000e+00, 9.4024395e+03,\n",
              "        0.0000000e+00, 3.1110793e+04, 1.5579314e+04, 0.0000000e+00,\n",
              "        0.0000000e+00, 0.0000000e+00, 1.8614246e+04, 0.0000000e+00,\n",
              "        0.0000000e+00, 0.0000000e+00, 0.0000000e+00, 0.0000000e+00,\n",
              "        2.1271683e+02, 0.0000000e+00, 0.0000000e+00, 0.0000000e+00,\n",
              "        6.7466011e+03, 0.0000000e+00, 1.2112662e+04, 0.0000000e+00,\n",
              "        0.0000000e+00, 0.0000000e+00, 0.0000000e+00, 0.0000000e+00,\n",
              "        0.0000000e+00, 1.6642744e+04, 0.0000000e+00, 0.0000000e+00,\n",
              "        0.0000000e+00, 0.0000000e+00, 1.7411352e+04, 0.0000000e+00,\n",
              "        0.0000000e+00, 0.0000000e+00, 0.0000000e+00, 0.0000000e+00,\n",
              "        0.0000000e+00, 0.0000000e+00, 2.6907270e+04, 0.0000000e+00,\n",
              "        0.0000000e+00, 0.0000000e+00, 0.0000000e+00, 0.0000000e+00,\n",
              "        0.0000000e+00, 6.2574365e+03, 0.0000000e+00, 1.2255112e+04,\n",
              "        0.0000000e+00, 0.0000000e+00, 0.0000000e+00, 2.0120535e+04],\n",
              "       dtype=float32)}"
            ]
          },
          "metadata": {
            "tags": []
          },
          "execution_count": 83
        }
      ]
    },
    {
      "cell_type": "code",
      "metadata": {
        "id": "jVRRJXaSLE37"
      },
      "source": [
        "with open('/gdrive/MyDrive/ImageRetrieval/representatives5.pickle', 'wb') as handle1:\r\n",
        "    pickle.dump(data, handle1, protocol=pickle.HIGHEST_PROTOCOL)"
      ],
      "execution_count": 84,
      "outputs": []
    },
    {
      "cell_type": "markdown",
      "metadata": {
        "id": "Iu92BJZwGzux"
      },
      "source": [
        "# input image "
      ]
    },
    {
      "cell_type": "code",
      "metadata": {
        "id": "Px_9kt0dFpNS",
        "colab": {
          "base_uri": "https://localhost:8080/",
          "height": 54
        },
        "outputId": "cb83a2b2-8694-4076-fab5-37fa958c05d2"
      },
      "source": [
        "'''\r\n",
        "resize image to 256 * 256\r\n",
        "go to latent space by VAE of each features\r\n",
        "find distance betweens representatives to choose class\r\n",
        "find most similar image to input image \r\n",
        "choose top 9 image\r\n",
        "'''"
      ],
      "execution_count": null,
      "outputs": [
        {
          "output_type": "execute_result",
          "data": {
            "application/vnd.google.colaboratory.intrinsic+json": {
              "type": "string"
            },
            "text/plain": [
              "'\\nresize image to 256 * 256\\ngo to latent space by VAE of each features\\nfind distance betweens representatives to choose class\\nfind most similar image to input image \\nchoose top 9 image\\n'"
            ]
          },
          "metadata": {
            "tags": []
          },
          "execution_count": 5
        }
      ]
    },
    {
      "cell_type": "code",
      "metadata": {
        "id": "M1szdV7tIzZh"
      },
      "source": [
        "# train VAE AutoEncoder\r\n",
        "# use encoder for making image features into latent space\r\n",
        "\r\n",
        "import numpy as np\r\n",
        "import tensorflow as tf\r\n",
        "from tensorflow.keras.optimizers import RMSprop\r\n",
        "from keras import backend as K\r\n",
        "from tensorflow.keras.utils import plot_model\r\n",
        "from tensorflow.keras.callbacks import ModelCheckpoint\r\n",
        "from keras.preprocessing.image import load_img\r\n",
        "from keras.preprocessing.image import img_to_array\r\n",
        "from tensorflow.keras import Model\r\n",
        "from tensorflow.keras.layers import Dense , Bidirectional ,LSTM , Input , Conv2D  ,MaxPooling2D ,AveragePooling2D ,Flatten , Lambda , UpSampling2D ,Conv2DTranspose ,Reshape \r\n",
        "from tensorflow.keras.applications.vgg19 import VGG19\r\n",
        "from tensorflow.keras.preprocessing import image_dataset_from_directory\r\n",
        "from tensorflow.keras.preprocessing.image import ImageDataGenerator\r\n",
        "from tensorflow.keras.callbacks import EarlyStopping , ModelCheckpoint , ReduceLROnPlateau\r\n",
        "from tensorflow.keras.losses import mean_absolute_error\r\n",
        "from random import shuffle\r\n",
        "from keras.models import load_model\r\n",
        "import glob"
      ],
      "execution_count": null,
      "outputs": []
    },
    {
      "cell_type": "code",
      "metadata": {
        "id": "KM29SXg9I0C3"
      },
      "source": [
        "def sample_latent_features(distribution):\r\n",
        "    distribution_mean, distribution_variance = distribution\r\n",
        "    batch_size = tf.shape(distribution_variance)[0]\r\n",
        "    random = tf.keras.backend.random_normal(shape=(batch_size, tf.shape(distribution_variance)[1]))\r\n",
        "    return distribution_mean + tf.exp(0.5 * distribution_variance) * random\r\n",
        "\r\n",
        "def make_Encoder_model():\r\n",
        "\r\n",
        "    # VAE encoder \r\n",
        "    '''\r\n",
        "    input shape = (256,256,3)\r\n",
        "    '''\r\n",
        "\r\n",
        "    input_shape = (256,256,3)\r\n",
        "\r\n",
        "    input_encoder = Input(input_shape,name = 'encoder_input')\r\n",
        "    encoder = Conv2D(8,(3,3),activation = 'relu',name = 'encoder_layer1')(input_encoder)\r\n",
        "    encoder = AveragePooling2D(2,2 , name = 'encoder_layer2')(encoder)\r\n",
        "    encoder = Conv2D(16,(3,3),activation = 'relu',name = 'encoder_layer3')(encoder)\r\n",
        "    encoder = MaxPooling2D(2,2 , name = 'encoder_layer4')(encoder)\r\n",
        "    encoder = Conv2D(32,(3,3),activation = 'relu',name = 'encoder_layer5')(encoder)\r\n",
        "    encoder = AveragePooling2D(4,4, name = 'encoder_layer6')(encoder)\r\n",
        "    encoder = Flatten(name = 'encoder_layer7')(encoder)\r\n",
        "    encoder = Dense(64 , activation = 'relu', name = 'encoder_layer8')(encoder)\r\n",
        "\r\n",
        "    distribution_mean = Dense(64, name='mean')(encoder)\r\n",
        "    distribution_variance = Dense(64, name='log_variance')(encoder)\r\n",
        "\r\n",
        "    latent_encoding = Lambda(sample_latent_features , name = 'encoder_output')([distribution_mean, distribution_variance])\r\n",
        "\r\n",
        "    Encoder = Model(inputs= [input_encoder], outputs=[latent_encoding],name = 'Encoder')\r\n",
        "\r\n",
        "    return Encoder"
      ],
      "execution_count": null,
      "outputs": []
    },
    {
      "cell_type": "code",
      "metadata": {
        "id": "jTl_U8CiWzhF"
      },
      "source": [
        "def make_AE():\r\n",
        "    inception = InceptionV3(weights='imagenet', include_top=False, input_shape=(256,256,3))\r\n",
        "    inception.trainable = False\r\n",
        "    base_out = inception.output\r\n",
        "    top_fc1 = Flatten()(base_out)\r\n",
        "    top_fc2 = Dropout(0.5)(top_fc1)\r\n",
        "    encoder_output = Dense(256, activation=\"relu\")(top_fc2)\r\n",
        "    Encoder = Model(inputs= [inception.input], outputs=[encoder_output],name = 'Encoder')\r\n",
        "\r\n",
        "    return Encoder"
      ],
      "execution_count": null,
      "outputs": []
    },
    {
      "cell_type": "code",
      "metadata": {
        "id": "LqouBLdKXU-V"
      },
      "source": [
        "AE = make_AE()\r\n",
        "AE.load_weights('/gdrive/MyDrive/ImageRetrieval/Models/inception256_Encoder_weights.h5')"
      ],
      "execution_count": null,
      "outputs": []
    },
    {
      "cell_type": "code",
      "metadata": {
        "id": "mFAPhS9SJx50"
      },
      "source": [
        "RGB_VAE = make_Encoder_model()\r\n",
        "RGB_VAE.load_weights('/gdrive/MyDrive/ImageRetrieval/Models/RGB256_Encoder.h5')"
      ],
      "execution_count": null,
      "outputs": []
    },
    {
      "cell_type": "code",
      "metadata": {
        "id": "OvcMlDVJKLHA"
      },
      "source": [
        "HSI_VAE = make_Encoder_model()\r\n",
        "HSI_VAE.load_weights('/gdrive/MyDrive/ImageRetrieval/Models/HSI256_Encoder.h5')"
      ],
      "execution_count": null,
      "outputs": []
    },
    {
      "cell_type": "code",
      "metadata": {
        "id": "xfjCpgGoKQ11"
      },
      "source": [
        "LAB_VAE = make_Encoder_model()\r\n",
        "LAB_VAE.load_weights('/gdrive/MyDrive/ImageRetrieval/Models/LAB256_Encoder.h5')"
      ],
      "execution_count": null,
      "outputs": []
    },
    {
      "cell_type": "code",
      "metadata": {
        "id": "U6-BxyqZKnda"
      },
      "source": [
        "XYZ_VAE = make_Encoder_model()\r\n",
        "XYZ_VAE.load_weights('/gdrive/MyDrive/ImageRetrieval/Models/XYZ256_Encoder.h5')"
      ],
      "execution_count": null,
      "outputs": []
    },
    {
      "cell_type": "code",
      "metadata": {
        "colab": {
          "base_uri": "https://localhost:8080/"
        },
        "id": "4EHfUGcGMKF_",
        "outputId": "15d5de75-ef94-466a-df07-fe5a48503ec8"
      },
      "source": [
        "import pickle\r\n",
        "handle = open('/gdrive/MyDrive/ImageRetrieval/representatives4.pickle', 'rb')\r\n",
        "representives = pickle.load(handle)\r\n",
        "representives['bear'].keys()"
      ],
      "execution_count": null,
      "outputs": [
        {
          "output_type": "execute_result",
          "data": {
            "text/plain": [
              "dict_keys(['RGB', 'HSI', 'LAB', 'XYZ', 'inception'])"
            ]
          },
          "metadata": {
            "tags": []
          },
          "execution_count": 113
        }
      ]
    },
    {
      "cell_type": "code",
      "metadata": {
        "colab": {
          "base_uri": "https://localhost:8080/"
        },
        "id": "tMxNmKl7L8ZL",
        "outputId": "3a490816-72b9-4c39-8289-b52eaf38fbd5"
      },
      "source": [
        "from skimage.color import rgb2hsv\r\n",
        "from skimage.color import rgb2xyz\r\n",
        "from skimage.color import rgb2lab\r\n",
        "from PIL import Image\r\n",
        "\r\n",
        "paths = glob.glob('/gdrive/MyDrive/ImageRetrieval/test_images/*.jpg')\r\n",
        "\r\n",
        "for path in paths :\r\n",
        "    im = Image.open(path)\r\n",
        "    im = im.resize((int(256), int(256)), Image.ANTIALIAS)\r\n",
        "    im.save(path)\r\n",
        "    im.close()\r\n",
        "\r\n",
        "    img_name = path.split('/')[-1]\r\n",
        "\r\n",
        "    # color features:\r\n",
        "\r\n",
        "    img = load_img(path)\r\n",
        "    img = img_to_array(img)\r\n",
        "\r\n",
        "\r\n",
        "    rgb_img = img/255.0\r\n",
        "    rgb_img = rgb_img.reshape(1,256,256,3)\r\n",
        "    rgb_img = rgb_img.astype(np.float32)\r\n",
        "\r\n",
        "\r\n",
        "    hsv_img = rgb2hsv(img)\r\n",
        "    hsv_img[:,:,2] = hsv_img[:,:,2]/255.0\r\n",
        "    hsv_img = hsv_img.reshape(1,256,256,3)\r\n",
        "    hsv_img = hsv_img.astype(np.float32)\r\n",
        "\r\n",
        "    lab_img = rgb2lab(img)\r\n",
        "    lab_img = lab_img.reshape(1,256,256,3)\r\n",
        "    lab_img = lab_img.astype(np.float64)\r\n",
        "\r\n",
        "    xyz_img = rgb2xyz(img)\r\n",
        "    xyz_img = xyz_img.reshape(1,256,256,3)\r\n",
        "    xyz_img = xyz_img.astype(np.float32)\r\n",
        "\r\n",
        "    latent_RGB = RGB_VAE(rgb_img).numpy().reshape(64)\r\n",
        "    latent_RGB = np.nan_to_num(latent_RGB, nan=0)\r\n",
        "    latent_inception = AE(rgb_img).numpy().reshape(256)\r\n",
        "    latent_inception = np.nan_to_num(latent_inception, nan=0)\r\n",
        "    latent_HSI = HSI_VAE(hsv_img).numpy().reshape(64)\r\n",
        "    latent_HSI = np.nan_to_num(latent_HSI, nan=0)\r\n",
        "    latent_LAB = LAB_VAE(hsv_img).numpy().reshape(64)\r\n",
        "    latent_LAB = np.nan_to_num(latent_LAB, nan=0)\r\n",
        "    latent_XYZ = XYZ_VAE(xyz_img).numpy().reshape(64)\r\n",
        "    latent_XYZ = np.nan_to_num(latent_XYZ, nan=0)\r\n",
        "\r\n",
        "\r\n",
        "    # texture features : \r\n",
        "\r\n",
        "\r\n",
        "\r\n",
        "    class_name = ''\r\n",
        "    score_class = np.inf\r\n",
        "    for c in list(representives.keys()):\r\n",
        "\r\n",
        "        class_info = representives[c]\r\n",
        "\r\n",
        "        # distance Color features\r\n",
        "\r\n",
        "        rgb_info = class_info['RGB']\r\n",
        "        rgb_info = np.nan_to_num(rgb_info, nan=0)\r\n",
        "        hsi_info = class_info['HSI']\r\n",
        "        hsi_info = np.nan_to_num(hsi_info, nan=0)\r\n",
        "        lab_info = class_info['LAB']\r\n",
        "        lab_info = np.nan_to_num(lab_info, nan=0)\r\n",
        "        xyz_info = class_info['XYZ']\r\n",
        "        xyz_info = np.nan_to_num(xyz_info, nan=0)\r\n",
        "        inception_info = class_info['inception']\r\n",
        "        inception_info = np.nan_to_num(inception_info, nan=0)\r\n",
        "\r\n",
        "        rgb_score = np.sum(np.abs(rgb_info - latent_RGB))\r\n",
        "        hsi_score = np.sum(np.abs(hsi_info - latent_HSI))\r\n",
        "        lab_score = np.sum(np.abs(lab_info - latent_LAB))\r\n",
        "        xyz_score = np.sum(np.abs(xyz_info - latent_XYZ))\r\n",
        "        inception_score = np.sum(np.abs(inception_info - latent_inception))\r\n",
        "\r\n",
        "\r\n",
        "        color_score = (inception_score + rgb_score + hsi_score + xyz_score + lab_score)/(5)\r\n",
        "\r\n",
        "        # distance Texture features\r\n",
        "\r\n",
        "        if score < score_class:\r\n",
        "            score_class = score\r\n",
        "            class_name = c\r\n",
        "\r\n",
        "    print('image {} , reltated to {} , difference {}'.format(img_name,class_name,score))"
      ],
      "execution_count": null,
      "outputs": [
        {
          "output_type": "stream",
          "text": [
            "image lion1.jpg , reltated to giraffe , difference 118025.0625\n",
            "image bear2.jpg , reltated to lion , difference 118713.65\n",
            "image cow3.jpg , reltated to sheep , difference 117613.9125\n",
            "image elephent1.jpg , reltated to goat , difference 116334.8\n",
            "image tiger3.jpg , reltated to sheep , difference 119390.5125\n",
            "image tiger2.jpg , reltated to tiger , difference 119070.5625\n",
            "image cow2.jpg , reltated to horse , difference 117032.7\n",
            "image cow1.jpg , reltated to panda , difference 116129.2\n",
            "image lion2.jpg , reltated to coyote , difference 116243.75\n",
            "image bear1.jpg , reltated to goat , difference 117707.825\n",
            "image tiger1.jpg , reltated to coyote , difference 118256.2125\n",
            "image tiger4.jpg , reltated to gorilla , difference 117959.35\n"
          ],
          "name": "stdout"
        }
      ]
    },
    {
      "cell_type": "code",
      "metadata": {
        "id": "SCkf5uXUNWCZ"
      },
      "source": [
        ""
      ],
      "execution_count": null,
      "outputs": []
    }
  ]
}